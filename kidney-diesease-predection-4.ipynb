{
 "cells": [
  {
   "cell_type": "code",
   "execution_count": 1,
   "id": "f50ce32e",
   "metadata": {
    "_cell_guid": "b1076dfc-b9ad-4769-8c92-a6c4dae69d19",
    "_uuid": "8f2839f25d086af736a60e9eeb907d3b93b6e0e5",
    "execution": {
     "iopub.execute_input": "2024-08-09T02:58:52.265063Z",
     "iopub.status.busy": "2024-08-09T02:58:52.264598Z",
     "iopub.status.idle": "2024-08-09T02:58:55.748431Z",
     "shell.execute_reply": "2024-08-09T02:58:55.747144Z"
    },
    "papermill": {
     "duration": 3.50064,
     "end_time": "2024-08-09T02:58:55.751062",
     "exception": false,
     "start_time": "2024-08-09T02:58:52.250422",
     "status": "completed"
    },
    "tags": []
   },
   "outputs": [],
   "source": [
    "\n",
    "#Importing libraries\n",
    "from scipy.io import arff\n",
    "import pandas as pd\n",
    "import numpy as np\n",
    "pd.set_option(\"display.max_columns\",None)\n",
    "from collections import Counter\n",
    "import matplotlib.pyplot as plt\n",
    "%matplotlib inline\n",
    "import seaborn as sns\n",
    "from sklearn.model_selection import train_test_split\n",
    "from sklearn.neighbors import KNeighborsClassifier\n",
    "from sklearn.model_selection import GridSearchCV\n",
    "from sklearn.svm import SVC\n",
    "from sklearn.preprocessing import StandardScaler\n",
    "import plotly.express as px\n",
    "from sklearn.metrics import classification_report\n",
    "from sklearn.ensemble import AdaBoostClassifier\n",
    "from sklearn.feature_selection import RFECV\n",
    "from sklearn.ensemble import RandomForestClassifier\n",
    "from sklearn.tree import DecisionTreeClassifier\n",
    "from sklearn.tree import plot_tree\n",
    "from sklearn.preprocessing import StandardScaler\n",
    "from sklearn.decomposition import PCA\n",
    "from sklearn.model_selection import cross_val_score\n",
    "from sklearn.metrics import precision_score\n",
    "from sklearn.metrics import recall_score\n",
    "from sklearn.metrics import f1_score\n",
    "from math import sqrt\n",
    "from sklearn.naive_bayes import MultinomialNB\n",
    "from sklearn.preprocessing import MinMaxScaler\n",
    "from sklearn.impute import KNNImputer"
   ]
  },
  {
   "cell_type": "code",
   "execution_count": 2,
   "id": "63e3ec8e",
   "metadata": {
    "execution": {
     "iopub.execute_input": "2024-08-09T02:58:55.777318Z",
     "iopub.status.busy": "2024-08-09T02:58:55.776261Z",
     "iopub.status.idle": "2024-08-09T02:58:55.789664Z",
     "shell.execute_reply": "2024-08-09T02:58:55.788060Z"
    },
    "papermill": {
     "duration": 0.028918,
     "end_time": "2024-08-09T02:58:55.792080",
     "exception": false,
     "start_time": "2024-08-09T02:58:55.763162",
     "status": "completed"
    },
    "tags": []
   },
   "outputs": [
    {
     "name": "stdout",
     "output_type": "stream",
     "text": [
      "/kaggle/input/kidney-disease/kidney_disease.csv\n"
     ]
    }
   ],
   "source": [
    "# Input data \n",
    "import os\n",
    "for dirname, _, filenames in os.walk('/kaggle/input'):\n",
    "    for filename in filenames:\n",
    "        print(os.path.join(dirname, filename))"
   ]
  },
  {
   "cell_type": "code",
   "execution_count": 3,
   "id": "1274544c",
   "metadata": {
    "execution": {
     "iopub.execute_input": "2024-08-09T02:58:55.818652Z",
     "iopub.status.busy": "2024-08-09T02:58:55.818172Z",
     "iopub.status.idle": "2024-08-09T02:58:55.823064Z",
     "shell.execute_reply": "2024-08-09T02:58:55.821990Z"
    },
    "papermill": {
     "duration": 0.021382,
     "end_time": "2024-08-09T02:58:55.825451",
     "exception": false,
     "start_time": "2024-08-09T02:58:55.804069",
     "status": "completed"
    },
    "tags": []
   },
   "outputs": [],
   "source": [
    "file_path = '/kaggle/input/kidney-disease/kidney_disease.csv'"
   ]
  },
  {
   "cell_type": "code",
   "execution_count": 4,
   "id": "e7ba1665",
   "metadata": {
    "execution": {
     "iopub.execute_input": "2024-08-09T02:58:55.851670Z",
     "iopub.status.busy": "2024-08-09T02:58:55.850982Z",
     "iopub.status.idle": "2024-08-09T02:58:55.870108Z",
     "shell.execute_reply": "2024-08-09T02:58:55.869027Z"
    },
    "papermill": {
     "duration": 0.035143,
     "end_time": "2024-08-09T02:58:55.872961",
     "exception": false,
     "start_time": "2024-08-09T02:58:55.837818",
     "status": "completed"
    },
    "tags": []
   },
   "outputs": [],
   "source": [
    "df = pd.read_csv(file_path)"
   ]
  },
  {
   "cell_type": "code",
   "execution_count": 5,
   "id": "85127d7f",
   "metadata": {
    "execution": {
     "iopub.execute_input": "2024-08-09T02:58:55.898809Z",
     "iopub.status.busy": "2024-08-09T02:58:55.898335Z",
     "iopub.status.idle": "2024-08-09T02:58:55.935484Z",
     "shell.execute_reply": "2024-08-09T02:58:55.934351Z"
    },
    "papermill": {
     "duration": 0.053116,
     "end_time": "2024-08-09T02:58:55.938195",
     "exception": false,
     "start_time": "2024-08-09T02:58:55.885079",
     "status": "completed"
    },
    "tags": []
   },
   "outputs": [
    {
     "data": {
      "text/html": [
       "<div>\n",
       "<style scoped>\n",
       "    .dataframe tbody tr th:only-of-type {\n",
       "        vertical-align: middle;\n",
       "    }\n",
       "\n",
       "    .dataframe tbody tr th {\n",
       "        vertical-align: top;\n",
       "    }\n",
       "\n",
       "    .dataframe thead th {\n",
       "        text-align: right;\n",
       "    }\n",
       "</style>\n",
       "<table border=\"1\" class=\"dataframe\">\n",
       "  <thead>\n",
       "    <tr style=\"text-align: right;\">\n",
       "      <th></th>\n",
       "      <th>id</th>\n",
       "      <th>age</th>\n",
       "      <th>bp</th>\n",
       "      <th>sg</th>\n",
       "      <th>al</th>\n",
       "      <th>su</th>\n",
       "      <th>rbc</th>\n",
       "      <th>pc</th>\n",
       "      <th>pcc</th>\n",
       "      <th>ba</th>\n",
       "      <th>bgr</th>\n",
       "      <th>bu</th>\n",
       "      <th>sc</th>\n",
       "      <th>sod</th>\n",
       "      <th>pot</th>\n",
       "      <th>hemo</th>\n",
       "      <th>pcv</th>\n",
       "      <th>wc</th>\n",
       "      <th>rc</th>\n",
       "      <th>htn</th>\n",
       "      <th>dm</th>\n",
       "      <th>cad</th>\n",
       "      <th>appet</th>\n",
       "      <th>pe</th>\n",
       "      <th>ane</th>\n",
       "      <th>classification</th>\n",
       "    </tr>\n",
       "  </thead>\n",
       "  <tbody>\n",
       "    <tr>\n",
       "      <th>0</th>\n",
       "      <td>0</td>\n",
       "      <td>48.0</td>\n",
       "      <td>80.0</td>\n",
       "      <td>1.020</td>\n",
       "      <td>1.0</td>\n",
       "      <td>0.0</td>\n",
       "      <td>NaN</td>\n",
       "      <td>normal</td>\n",
       "      <td>notpresent</td>\n",
       "      <td>notpresent</td>\n",
       "      <td>121.0</td>\n",
       "      <td>36.0</td>\n",
       "      <td>1.2</td>\n",
       "      <td>NaN</td>\n",
       "      <td>NaN</td>\n",
       "      <td>15.4</td>\n",
       "      <td>44</td>\n",
       "      <td>7800</td>\n",
       "      <td>5.2</td>\n",
       "      <td>yes</td>\n",
       "      <td>yes</td>\n",
       "      <td>no</td>\n",
       "      <td>good</td>\n",
       "      <td>no</td>\n",
       "      <td>no</td>\n",
       "      <td>ckd</td>\n",
       "    </tr>\n",
       "    <tr>\n",
       "      <th>1</th>\n",
       "      <td>1</td>\n",
       "      <td>7.0</td>\n",
       "      <td>50.0</td>\n",
       "      <td>1.020</td>\n",
       "      <td>4.0</td>\n",
       "      <td>0.0</td>\n",
       "      <td>NaN</td>\n",
       "      <td>normal</td>\n",
       "      <td>notpresent</td>\n",
       "      <td>notpresent</td>\n",
       "      <td>NaN</td>\n",
       "      <td>18.0</td>\n",
       "      <td>0.8</td>\n",
       "      <td>NaN</td>\n",
       "      <td>NaN</td>\n",
       "      <td>11.3</td>\n",
       "      <td>38</td>\n",
       "      <td>6000</td>\n",
       "      <td>NaN</td>\n",
       "      <td>no</td>\n",
       "      <td>no</td>\n",
       "      <td>no</td>\n",
       "      <td>good</td>\n",
       "      <td>no</td>\n",
       "      <td>no</td>\n",
       "      <td>ckd</td>\n",
       "    </tr>\n",
       "    <tr>\n",
       "      <th>2</th>\n",
       "      <td>2</td>\n",
       "      <td>62.0</td>\n",
       "      <td>80.0</td>\n",
       "      <td>1.010</td>\n",
       "      <td>2.0</td>\n",
       "      <td>3.0</td>\n",
       "      <td>normal</td>\n",
       "      <td>normal</td>\n",
       "      <td>notpresent</td>\n",
       "      <td>notpresent</td>\n",
       "      <td>423.0</td>\n",
       "      <td>53.0</td>\n",
       "      <td>1.8</td>\n",
       "      <td>NaN</td>\n",
       "      <td>NaN</td>\n",
       "      <td>9.6</td>\n",
       "      <td>31</td>\n",
       "      <td>7500</td>\n",
       "      <td>NaN</td>\n",
       "      <td>no</td>\n",
       "      <td>yes</td>\n",
       "      <td>no</td>\n",
       "      <td>poor</td>\n",
       "      <td>no</td>\n",
       "      <td>yes</td>\n",
       "      <td>ckd</td>\n",
       "    </tr>\n",
       "    <tr>\n",
       "      <th>3</th>\n",
       "      <td>3</td>\n",
       "      <td>48.0</td>\n",
       "      <td>70.0</td>\n",
       "      <td>1.005</td>\n",
       "      <td>4.0</td>\n",
       "      <td>0.0</td>\n",
       "      <td>normal</td>\n",
       "      <td>abnormal</td>\n",
       "      <td>present</td>\n",
       "      <td>notpresent</td>\n",
       "      <td>117.0</td>\n",
       "      <td>56.0</td>\n",
       "      <td>3.8</td>\n",
       "      <td>111.0</td>\n",
       "      <td>2.5</td>\n",
       "      <td>11.2</td>\n",
       "      <td>32</td>\n",
       "      <td>6700</td>\n",
       "      <td>3.9</td>\n",
       "      <td>yes</td>\n",
       "      <td>no</td>\n",
       "      <td>no</td>\n",
       "      <td>poor</td>\n",
       "      <td>yes</td>\n",
       "      <td>yes</td>\n",
       "      <td>ckd</td>\n",
       "    </tr>\n",
       "    <tr>\n",
       "      <th>4</th>\n",
       "      <td>4</td>\n",
       "      <td>51.0</td>\n",
       "      <td>80.0</td>\n",
       "      <td>1.010</td>\n",
       "      <td>2.0</td>\n",
       "      <td>0.0</td>\n",
       "      <td>normal</td>\n",
       "      <td>normal</td>\n",
       "      <td>notpresent</td>\n",
       "      <td>notpresent</td>\n",
       "      <td>106.0</td>\n",
       "      <td>26.0</td>\n",
       "      <td>1.4</td>\n",
       "      <td>NaN</td>\n",
       "      <td>NaN</td>\n",
       "      <td>11.6</td>\n",
       "      <td>35</td>\n",
       "      <td>7300</td>\n",
       "      <td>4.6</td>\n",
       "      <td>no</td>\n",
       "      <td>no</td>\n",
       "      <td>no</td>\n",
       "      <td>good</td>\n",
       "      <td>no</td>\n",
       "      <td>no</td>\n",
       "      <td>ckd</td>\n",
       "    </tr>\n",
       "  </tbody>\n",
       "</table>\n",
       "</div>"
      ],
      "text/plain": [
       "   id   age    bp     sg   al   su     rbc        pc         pcc          ba  \\\n",
       "0   0  48.0  80.0  1.020  1.0  0.0     NaN    normal  notpresent  notpresent   \n",
       "1   1   7.0  50.0  1.020  4.0  0.0     NaN    normal  notpresent  notpresent   \n",
       "2   2  62.0  80.0  1.010  2.0  3.0  normal    normal  notpresent  notpresent   \n",
       "3   3  48.0  70.0  1.005  4.0  0.0  normal  abnormal     present  notpresent   \n",
       "4   4  51.0  80.0  1.010  2.0  0.0  normal    normal  notpresent  notpresent   \n",
       "\n",
       "     bgr    bu   sc    sod  pot  hemo pcv    wc   rc  htn   dm cad appet   pe  \\\n",
       "0  121.0  36.0  1.2    NaN  NaN  15.4  44  7800  5.2  yes  yes  no  good   no   \n",
       "1    NaN  18.0  0.8    NaN  NaN  11.3  38  6000  NaN   no   no  no  good   no   \n",
       "2  423.0  53.0  1.8    NaN  NaN   9.6  31  7500  NaN   no  yes  no  poor   no   \n",
       "3  117.0  56.0  3.8  111.0  2.5  11.2  32  6700  3.9  yes   no  no  poor  yes   \n",
       "4  106.0  26.0  1.4    NaN  NaN  11.6  35  7300  4.6   no   no  no  good   no   \n",
       "\n",
       "   ane classification  \n",
       "0   no            ckd  \n",
       "1   no            ckd  \n",
       "2  yes            ckd  \n",
       "3  yes            ckd  \n",
       "4   no            ckd  "
      ]
     },
     "execution_count": 5,
     "metadata": {},
     "output_type": "execute_result"
    }
   ],
   "source": [
    "df.head()"
   ]
  },
  {
   "cell_type": "code",
   "execution_count": 6,
   "id": "de5cb08d",
   "metadata": {
    "execution": {
     "iopub.execute_input": "2024-08-09T02:58:55.965387Z",
     "iopub.status.busy": "2024-08-09T02:58:55.964983Z",
     "iopub.status.idle": "2024-08-09T02:58:55.971325Z",
     "shell.execute_reply": "2024-08-09T02:58:55.970356Z"
    },
    "papermill": {
     "duration": 0.022258,
     "end_time": "2024-08-09T02:58:55.973449",
     "exception": false,
     "start_time": "2024-08-09T02:58:55.951191",
     "status": "completed"
    },
    "tags": []
   },
   "outputs": [
    {
     "data": {
      "text/plain": [
       "(400, 26)"
      ]
     },
     "execution_count": 6,
     "metadata": {},
     "output_type": "execute_result"
    }
   ],
   "source": [
    "df.shape"
   ]
  },
  {
   "cell_type": "code",
   "execution_count": 7,
   "id": "c32fd69f",
   "metadata": {
    "execution": {
     "iopub.execute_input": "2024-08-09T02:58:56.000963Z",
     "iopub.status.busy": "2024-08-09T02:58:56.000099Z",
     "iopub.status.idle": "2024-08-09T02:58:56.011434Z",
     "shell.execute_reply": "2024-08-09T02:58:56.010349Z"
    },
    "papermill": {
     "duration": 0.028105,
     "end_time": "2024-08-09T02:58:56.013931",
     "exception": false,
     "start_time": "2024-08-09T02:58:55.985826",
     "status": "completed"
    },
    "tags": []
   },
   "outputs": [],
   "source": [
    "# dropping id column\n",
    "df.drop('id', axis = 1, inplace = True)"
   ]
  },
  {
   "cell_type": "code",
   "execution_count": 8,
   "id": "dce39cd9",
   "metadata": {
    "execution": {
     "iopub.execute_input": "2024-08-09T02:58:56.040765Z",
     "iopub.status.busy": "2024-08-09T02:58:56.040376Z",
     "iopub.status.idle": "2024-08-09T02:58:56.046188Z",
     "shell.execute_reply": "2024-08-09T02:58:56.045103Z"
    },
    "papermill": {
     "duration": 0.022157,
     "end_time": "2024-08-09T02:58:56.048478",
     "exception": false,
     "start_time": "2024-08-09T02:58:56.026321",
     "status": "completed"
    },
    "tags": []
   },
   "outputs": [],
   "source": [
    "# Renaming the column\n",
    "df.columns = ['age', 'blood_pressure', 'specific_gravity', 'albumin', 'sugar', 'red_blood_cells', 'pus_cell',\n",
    "              'pus_cell_clumps', 'bacteria', 'blood_glucose_random', 'blood_urea', 'serum_creatinine', 'sodium',\n",
    "              'potassium', 'haemoglobin', 'packed_cell_volume', 'white_blood_cell_count', 'red_blood_cell_count',\n",
    "              'hypertension', 'diabetes_mellitus', 'coronary_artery_disease', 'appetite', 'peda_edema',\n",
    "              'aanemia', 'class']"
   ]
  },
  {
   "cell_type": "code",
   "execution_count": 9,
   "id": "c5856abf",
   "metadata": {
    "execution": {
     "iopub.execute_input": "2024-08-09T02:58:56.075189Z",
     "iopub.status.busy": "2024-08-09T02:58:56.074787Z",
     "iopub.status.idle": "2024-08-09T02:58:56.099378Z",
     "shell.execute_reply": "2024-08-09T02:58:56.097993Z"
    },
    "papermill": {
     "duration": 0.041035,
     "end_time": "2024-08-09T02:58:56.101848",
     "exception": false,
     "start_time": "2024-08-09T02:58:56.060813",
     "status": "completed"
    },
    "tags": []
   },
   "outputs": [
    {
     "name": "stdout",
     "output_type": "stream",
     "text": [
      "<class 'pandas.core.frame.DataFrame'>\n",
      "RangeIndex: 400 entries, 0 to 399\n",
      "Data columns (total 25 columns):\n",
      " #   Column                   Non-Null Count  Dtype  \n",
      "---  ------                   --------------  -----  \n",
      " 0   age                      391 non-null    float64\n",
      " 1   blood_pressure           388 non-null    float64\n",
      " 2   specific_gravity         353 non-null    float64\n",
      " 3   albumin                  354 non-null    float64\n",
      " 4   sugar                    351 non-null    float64\n",
      " 5   red_blood_cells          248 non-null    object \n",
      " 6   pus_cell                 335 non-null    object \n",
      " 7   pus_cell_clumps          396 non-null    object \n",
      " 8   bacteria                 396 non-null    object \n",
      " 9   blood_glucose_random     356 non-null    float64\n",
      " 10  blood_urea               381 non-null    float64\n",
      " 11  serum_creatinine         383 non-null    float64\n",
      " 12  sodium                   313 non-null    float64\n",
      " 13  potassium                312 non-null    float64\n",
      " 14  haemoglobin              348 non-null    float64\n",
      " 15  packed_cell_volume       330 non-null    object \n",
      " 16  white_blood_cell_count   295 non-null    object \n",
      " 17  red_blood_cell_count     270 non-null    object \n",
      " 18  hypertension             398 non-null    object \n",
      " 19  diabetes_mellitus        398 non-null    object \n",
      " 20  coronary_artery_disease  398 non-null    object \n",
      " 21  appetite                 399 non-null    object \n",
      " 22  peda_edema               399 non-null    object \n",
      " 23  aanemia                  399 non-null    object \n",
      " 24  class                    400 non-null    object \n",
      "dtypes: float64(11), object(14)\n",
      "memory usage: 78.2+ KB\n"
     ]
    }
   ],
   "source": [
    "df.info()"
   ]
  },
  {
   "cell_type": "markdown",
   "id": "6ae3da75",
   "metadata": {
    "papermill": {
     "duration": 0.012039,
     "end_time": "2024-08-09T02:58:56.126339",
     "exception": false,
     "start_time": "2024-08-09T02:58:56.114300",
     "status": "completed"
    },
    "tags": []
   },
   "source": [
    "Since packed_cell_volume,white_blood_cell_count, red_blood_cell_count are object even though they are numeric, need to force change "
   ]
  },
  {
   "cell_type": "code",
   "execution_count": 10,
   "id": "68053995",
   "metadata": {
    "execution": {
     "iopub.execute_input": "2024-08-09T02:58:56.153317Z",
     "iopub.status.busy": "2024-08-09T02:58:56.152897Z",
     "iopub.status.idle": "2024-08-09T02:58:56.162248Z",
     "shell.execute_reply": "2024-08-09T02:58:56.160936Z"
    },
    "papermill": {
     "duration": 0.025993,
     "end_time": "2024-08-09T02:58:56.165007",
     "exception": false,
     "start_time": "2024-08-09T02:58:56.139014",
     "status": "completed"
    },
    "tags": []
   },
   "outputs": [],
   "source": [
    "df['packed_cell_volume'] = pd.to_numeric(df['packed_cell_volume'], errors='coerce')\n",
    "df['white_blood_cell_count'] = pd.to_numeric(df['white_blood_cell_count'], errors='coerce')\n",
    "df['red_blood_cell_count'] = pd.to_numeric(df['red_blood_cell_count'], errors='coerce')"
   ]
  },
  {
   "cell_type": "code",
   "execution_count": 11,
   "id": "6bfd12d4",
   "metadata": {
    "execution": {
     "iopub.execute_input": "2024-08-09T02:58:56.192224Z",
     "iopub.status.busy": "2024-08-09T02:58:56.191858Z",
     "iopub.status.idle": "2024-08-09T02:58:56.204344Z",
     "shell.execute_reply": "2024-08-09T02:58:56.203173Z"
    },
    "papermill": {
     "duration": 0.028902,
     "end_time": "2024-08-09T02:58:56.207004",
     "exception": false,
     "start_time": "2024-08-09T02:58:56.178102",
     "status": "completed"
    },
    "tags": []
   },
   "outputs": [
    {
     "name": "stdout",
     "output_type": "stream",
     "text": [
      "<class 'pandas.core.frame.DataFrame'>\n",
      "RangeIndex: 400 entries, 0 to 399\n",
      "Data columns (total 25 columns):\n",
      " #   Column                   Non-Null Count  Dtype  \n",
      "---  ------                   --------------  -----  \n",
      " 0   age                      391 non-null    float64\n",
      " 1   blood_pressure           388 non-null    float64\n",
      " 2   specific_gravity         353 non-null    float64\n",
      " 3   albumin                  354 non-null    float64\n",
      " 4   sugar                    351 non-null    float64\n",
      " 5   red_blood_cells          248 non-null    object \n",
      " 6   pus_cell                 335 non-null    object \n",
      " 7   pus_cell_clumps          396 non-null    object \n",
      " 8   bacteria                 396 non-null    object \n",
      " 9   blood_glucose_random     356 non-null    float64\n",
      " 10  blood_urea               381 non-null    float64\n",
      " 11  serum_creatinine         383 non-null    float64\n",
      " 12  sodium                   313 non-null    float64\n",
      " 13  potassium                312 non-null    float64\n",
      " 14  haemoglobin              348 non-null    float64\n",
      " 15  packed_cell_volume       329 non-null    float64\n",
      " 16  white_blood_cell_count   294 non-null    float64\n",
      " 17  red_blood_cell_count     269 non-null    float64\n",
      " 18  hypertension             398 non-null    object \n",
      " 19  diabetes_mellitus        398 non-null    object \n",
      " 20  coronary_artery_disease  398 non-null    object \n",
      " 21  appetite                 399 non-null    object \n",
      " 22  peda_edema               399 non-null    object \n",
      " 23  aanemia                  399 non-null    object \n",
      " 24  class                    400 non-null    object \n",
      "dtypes: float64(14), object(11)\n",
      "memory usage: 78.2+ KB\n"
     ]
    }
   ],
   "source": [
    "df.info()"
   ]
  },
  {
   "cell_type": "code",
   "execution_count": 12,
   "id": "ce8035aa",
   "metadata": {
    "execution": {
     "iopub.execute_input": "2024-08-09T02:58:56.234686Z",
     "iopub.status.busy": "2024-08-09T02:58:56.234181Z",
     "iopub.status.idle": "2024-08-09T02:58:56.240894Z",
     "shell.execute_reply": "2024-08-09T02:58:56.239640Z"
    },
    "papermill": {
     "duration": 0.023858,
     "end_time": "2024-08-09T02:58:56.243597",
     "exception": false,
     "start_time": "2024-08-09T02:58:56.219739",
     "status": "completed"
    },
    "tags": []
   },
   "outputs": [],
   "source": [
    "## Seperate numeric and categoircal Values for further data preprocessing\n",
    "num_cols = [col for col in df.columns if df[col].dtype != 'object']\n",
    "cat_cols = df.columns.drop('class').drop(num_cols)\n",
    "class_col = df['class']"
   ]
  },
  {
   "cell_type": "code",
   "execution_count": 13,
   "id": "e1e1dd73",
   "metadata": {
    "execution": {
     "iopub.execute_input": "2024-08-09T02:58:56.271720Z",
     "iopub.status.busy": "2024-08-09T02:58:56.271328Z",
     "iopub.status.idle": "2024-08-09T02:58:56.283124Z",
     "shell.execute_reply": "2024-08-09T02:58:56.282116Z"
    },
    "papermill": {
     "duration": 0.028718,
     "end_time": "2024-08-09T02:58:56.285759",
     "exception": false,
     "start_time": "2024-08-09T02:58:56.257041",
     "status": "completed"
    },
    "tags": []
   },
   "outputs": [
    {
     "name": "stdout",
     "output_type": "stream",
     "text": [
      "<class 'pandas.core.frame.DataFrame'>\n",
      "RangeIndex: 400 entries, 0 to 399\n",
      "Data columns (total 25 columns):\n",
      " #   Column                   Non-Null Count  Dtype  \n",
      "---  ------                   --------------  -----  \n",
      " 0   age                      391 non-null    float64\n",
      " 1   blood_pressure           388 non-null    float64\n",
      " 2   specific_gravity         353 non-null    float64\n",
      " 3   albumin                  354 non-null    float64\n",
      " 4   sugar                    351 non-null    float64\n",
      " 5   red_blood_cells          248 non-null    object \n",
      " 6   pus_cell                 335 non-null    object \n",
      " 7   pus_cell_clumps          396 non-null    object \n",
      " 8   bacteria                 396 non-null    object \n",
      " 9   blood_glucose_random     356 non-null    float64\n",
      " 10  blood_urea               381 non-null    float64\n",
      " 11  serum_creatinine         383 non-null    float64\n",
      " 12  sodium                   313 non-null    float64\n",
      " 13  potassium                312 non-null    float64\n",
      " 14  haemoglobin              348 non-null    float64\n",
      " 15  packed_cell_volume       329 non-null    float64\n",
      " 16  white_blood_cell_count   294 non-null    float64\n",
      " 17  red_blood_cell_count     269 non-null    float64\n",
      " 18  hypertension             398 non-null    object \n",
      " 19  diabetes_mellitus        398 non-null    object \n",
      " 20  coronary_artery_disease  398 non-null    object \n",
      " 21  appetite                 399 non-null    object \n",
      " 22  peda_edema               399 non-null    object \n",
      " 23  aanemia                  399 non-null    object \n",
      " 24  class                    400 non-null    object \n",
      "dtypes: float64(14), object(11)\n",
      "memory usage: 78.2+ KB\n"
     ]
    }
   ],
   "source": [
    "df.info()"
   ]
  },
  {
   "cell_type": "code",
   "execution_count": 14,
   "id": "a4f23ee0",
   "metadata": {
    "execution": {
     "iopub.execute_input": "2024-08-09T02:58:56.313393Z",
     "iopub.status.busy": "2024-08-09T02:58:56.312974Z",
     "iopub.status.idle": "2024-08-09T02:58:56.320740Z",
     "shell.execute_reply": "2024-08-09T02:58:56.319464Z"
    },
    "papermill": {
     "duration": 0.023973,
     "end_time": "2024-08-09T02:58:56.322962",
     "exception": false,
     "start_time": "2024-08-09T02:58:56.298989",
     "status": "completed"
    },
    "tags": []
   },
   "outputs": [
    {
     "name": "stdout",
     "output_type": "stream",
     "text": [
      "red_blood_cells has [nan 'normal' 'abnormal'] values\n",
      "\n",
      "pus_cell has ['normal' 'abnormal' nan] values\n",
      "\n",
      "pus_cell_clumps has ['notpresent' 'present' nan] values\n",
      "\n",
      "bacteria has ['notpresent' 'present' nan] values\n",
      "\n",
      "hypertension has ['yes' 'no' nan] values\n",
      "\n",
      "diabetes_mellitus has ['yes' 'no' ' yes' '\\tno' '\\tyes' nan] values\n",
      "\n",
      "coronary_artery_disease has ['no' 'yes' '\\tno' nan] values\n",
      "\n",
      "appetite has ['good' 'poor' nan] values\n",
      "\n",
      "peda_edema has ['no' 'yes' nan] values\n",
      "\n",
      "aanemia has ['no' 'yes' nan] values\n",
      "\n"
     ]
    }
   ],
   "source": [
    "\n",
    "# looking at unique values in categorical columns\n",
    "\n",
    "for col in cat_cols:\n",
    "    print(f\"{col} has {df[col].unique()} values\\n\")"
   ]
  },
  {
   "cell_type": "code",
   "execution_count": 15,
   "id": "f4815300",
   "metadata": {
    "execution": {
     "iopub.execute_input": "2024-08-09T02:58:56.350058Z",
     "iopub.status.busy": "2024-08-09T02:58:56.349670Z",
     "iopub.status.idle": "2024-08-09T02:58:56.358498Z",
     "shell.execute_reply": "2024-08-09T02:58:56.357369Z"
    },
    "papermill": {
     "duration": 0.025165,
     "end_time": "2024-08-09T02:58:56.360872",
     "exception": false,
     "start_time": "2024-08-09T02:58:56.335707",
     "status": "completed"
    },
    "tags": []
   },
   "outputs": [],
   "source": [
    "# replace incorrect values\n",
    "\n",
    "df['diabetes_mellitus'].replace(to_replace = {'\\tno':'no','\\tyes':'yes',' yes':'yes'})\n",
    "\n",
    "df['coronary_artery_disease'] = df['coronary_artery_disease'].replace(to_replace = '\\tno', value='no')\n",
    "\n",
    "df['class'] = df['class'].replace(to_replace = {'ckd\\t': 'ckd', 'notckd': 'not ckd'})\n"
   ]
  },
  {
   "cell_type": "code",
   "execution_count": 16,
   "id": "183442b6",
   "metadata": {
    "execution": {
     "iopub.execute_input": "2024-08-09T02:58:56.388503Z",
     "iopub.status.busy": "2024-08-09T02:58:56.388069Z",
     "iopub.status.idle": "2024-08-09T02:58:56.417277Z",
     "shell.execute_reply": "2024-08-09T02:58:56.416033Z"
    },
    "papermill": {
     "duration": 0.045851,
     "end_time": "2024-08-09T02:58:56.419573",
     "exception": false,
     "start_time": "2024-08-09T02:58:56.373722",
     "status": "completed"
    },
    "tags": []
   },
   "outputs": [
    {
     "data": {
      "text/html": [
       "<div>\n",
       "<style scoped>\n",
       "    .dataframe tbody tr th:only-of-type {\n",
       "        vertical-align: middle;\n",
       "    }\n",
       "\n",
       "    .dataframe tbody tr th {\n",
       "        vertical-align: top;\n",
       "    }\n",
       "\n",
       "    .dataframe thead th {\n",
       "        text-align: right;\n",
       "    }\n",
       "</style>\n",
       "<table border=\"1\" class=\"dataframe\">\n",
       "  <thead>\n",
       "    <tr style=\"text-align: right;\">\n",
       "      <th></th>\n",
       "      <th>age</th>\n",
       "      <th>blood_pressure</th>\n",
       "      <th>specific_gravity</th>\n",
       "      <th>albumin</th>\n",
       "      <th>sugar</th>\n",
       "      <th>red_blood_cells</th>\n",
       "      <th>pus_cell</th>\n",
       "      <th>pus_cell_clumps</th>\n",
       "      <th>bacteria</th>\n",
       "      <th>blood_glucose_random</th>\n",
       "      <th>blood_urea</th>\n",
       "      <th>serum_creatinine</th>\n",
       "      <th>sodium</th>\n",
       "      <th>potassium</th>\n",
       "      <th>haemoglobin</th>\n",
       "      <th>packed_cell_volume</th>\n",
       "      <th>white_blood_cell_count</th>\n",
       "      <th>red_blood_cell_count</th>\n",
       "      <th>hypertension</th>\n",
       "      <th>diabetes_mellitus</th>\n",
       "      <th>coronary_artery_disease</th>\n",
       "      <th>appetite</th>\n",
       "      <th>peda_edema</th>\n",
       "      <th>aanemia</th>\n",
       "      <th>class</th>\n",
       "    </tr>\n",
       "  </thead>\n",
       "  <tbody>\n",
       "    <tr>\n",
       "      <th>0</th>\n",
       "      <td>48.0</td>\n",
       "      <td>80.0</td>\n",
       "      <td>1.020</td>\n",
       "      <td>1.0</td>\n",
       "      <td>0.0</td>\n",
       "      <td>NaN</td>\n",
       "      <td>normal</td>\n",
       "      <td>notpresent</td>\n",
       "      <td>notpresent</td>\n",
       "      <td>121.0</td>\n",
       "      <td>36.0</td>\n",
       "      <td>1.2</td>\n",
       "      <td>NaN</td>\n",
       "      <td>NaN</td>\n",
       "      <td>15.4</td>\n",
       "      <td>44.0</td>\n",
       "      <td>7800.0</td>\n",
       "      <td>5.2</td>\n",
       "      <td>yes</td>\n",
       "      <td>yes</td>\n",
       "      <td>no</td>\n",
       "      <td>good</td>\n",
       "      <td>no</td>\n",
       "      <td>no</td>\n",
       "      <td>ckd</td>\n",
       "    </tr>\n",
       "    <tr>\n",
       "      <th>1</th>\n",
       "      <td>7.0</td>\n",
       "      <td>50.0</td>\n",
       "      <td>1.020</td>\n",
       "      <td>4.0</td>\n",
       "      <td>0.0</td>\n",
       "      <td>NaN</td>\n",
       "      <td>normal</td>\n",
       "      <td>notpresent</td>\n",
       "      <td>notpresent</td>\n",
       "      <td>NaN</td>\n",
       "      <td>18.0</td>\n",
       "      <td>0.8</td>\n",
       "      <td>NaN</td>\n",
       "      <td>NaN</td>\n",
       "      <td>11.3</td>\n",
       "      <td>38.0</td>\n",
       "      <td>6000.0</td>\n",
       "      <td>NaN</td>\n",
       "      <td>no</td>\n",
       "      <td>no</td>\n",
       "      <td>no</td>\n",
       "      <td>good</td>\n",
       "      <td>no</td>\n",
       "      <td>no</td>\n",
       "      <td>ckd</td>\n",
       "    </tr>\n",
       "    <tr>\n",
       "      <th>2</th>\n",
       "      <td>62.0</td>\n",
       "      <td>80.0</td>\n",
       "      <td>1.010</td>\n",
       "      <td>2.0</td>\n",
       "      <td>3.0</td>\n",
       "      <td>normal</td>\n",
       "      <td>normal</td>\n",
       "      <td>notpresent</td>\n",
       "      <td>notpresent</td>\n",
       "      <td>423.0</td>\n",
       "      <td>53.0</td>\n",
       "      <td>1.8</td>\n",
       "      <td>NaN</td>\n",
       "      <td>NaN</td>\n",
       "      <td>9.6</td>\n",
       "      <td>31.0</td>\n",
       "      <td>7500.0</td>\n",
       "      <td>NaN</td>\n",
       "      <td>no</td>\n",
       "      <td>yes</td>\n",
       "      <td>no</td>\n",
       "      <td>poor</td>\n",
       "      <td>no</td>\n",
       "      <td>yes</td>\n",
       "      <td>ckd</td>\n",
       "    </tr>\n",
       "    <tr>\n",
       "      <th>3</th>\n",
       "      <td>48.0</td>\n",
       "      <td>70.0</td>\n",
       "      <td>1.005</td>\n",
       "      <td>4.0</td>\n",
       "      <td>0.0</td>\n",
       "      <td>normal</td>\n",
       "      <td>abnormal</td>\n",
       "      <td>present</td>\n",
       "      <td>notpresent</td>\n",
       "      <td>117.0</td>\n",
       "      <td>56.0</td>\n",
       "      <td>3.8</td>\n",
       "      <td>111.0</td>\n",
       "      <td>2.5</td>\n",
       "      <td>11.2</td>\n",
       "      <td>32.0</td>\n",
       "      <td>6700.0</td>\n",
       "      <td>3.9</td>\n",
       "      <td>yes</td>\n",
       "      <td>no</td>\n",
       "      <td>no</td>\n",
       "      <td>poor</td>\n",
       "      <td>yes</td>\n",
       "      <td>yes</td>\n",
       "      <td>ckd</td>\n",
       "    </tr>\n",
       "    <tr>\n",
       "      <th>4</th>\n",
       "      <td>51.0</td>\n",
       "      <td>80.0</td>\n",
       "      <td>1.010</td>\n",
       "      <td>2.0</td>\n",
       "      <td>0.0</td>\n",
       "      <td>normal</td>\n",
       "      <td>normal</td>\n",
       "      <td>notpresent</td>\n",
       "      <td>notpresent</td>\n",
       "      <td>106.0</td>\n",
       "      <td>26.0</td>\n",
       "      <td>1.4</td>\n",
       "      <td>NaN</td>\n",
       "      <td>NaN</td>\n",
       "      <td>11.6</td>\n",
       "      <td>35.0</td>\n",
       "      <td>7300.0</td>\n",
       "      <td>4.6</td>\n",
       "      <td>no</td>\n",
       "      <td>no</td>\n",
       "      <td>no</td>\n",
       "      <td>good</td>\n",
       "      <td>no</td>\n",
       "      <td>no</td>\n",
       "      <td>ckd</td>\n",
       "    </tr>\n",
       "  </tbody>\n",
       "</table>\n",
       "</div>"
      ],
      "text/plain": [
       "    age  blood_pressure  specific_gravity  albumin  sugar red_blood_cells  \\\n",
       "0  48.0            80.0             1.020      1.0    0.0             NaN   \n",
       "1   7.0            50.0             1.020      4.0    0.0             NaN   \n",
       "2  62.0            80.0             1.010      2.0    3.0          normal   \n",
       "3  48.0            70.0             1.005      4.0    0.0          normal   \n",
       "4  51.0            80.0             1.010      2.0    0.0          normal   \n",
       "\n",
       "   pus_cell pus_cell_clumps    bacteria  blood_glucose_random  blood_urea  \\\n",
       "0    normal      notpresent  notpresent                 121.0        36.0   \n",
       "1    normal      notpresent  notpresent                   NaN        18.0   \n",
       "2    normal      notpresent  notpresent                 423.0        53.0   \n",
       "3  abnormal         present  notpresent                 117.0        56.0   \n",
       "4    normal      notpresent  notpresent                 106.0        26.0   \n",
       "\n",
       "   serum_creatinine  sodium  potassium  haemoglobin  packed_cell_volume  \\\n",
       "0               1.2     NaN        NaN         15.4                44.0   \n",
       "1               0.8     NaN        NaN         11.3                38.0   \n",
       "2               1.8     NaN        NaN          9.6                31.0   \n",
       "3               3.8   111.0        2.5         11.2                32.0   \n",
       "4               1.4     NaN        NaN         11.6                35.0   \n",
       "\n",
       "   white_blood_cell_count  red_blood_cell_count hypertension  \\\n",
       "0                  7800.0                   5.2          yes   \n",
       "1                  6000.0                   NaN           no   \n",
       "2                  7500.0                   NaN           no   \n",
       "3                  6700.0                   3.9          yes   \n",
       "4                  7300.0                   4.6           no   \n",
       "\n",
       "  diabetes_mellitus coronary_artery_disease appetite peda_edema aanemia class  \n",
       "0               yes                      no     good         no      no   ckd  \n",
       "1                no                      no     good         no      no   ckd  \n",
       "2               yes                      no     poor         no     yes   ckd  \n",
       "3                no                      no     poor        yes     yes   ckd  \n",
       "4                no                      no     good         no      no   ckd  "
      ]
     },
     "execution_count": 16,
     "metadata": {},
     "output_type": "execute_result"
    }
   ],
   "source": [
    "df.head()"
   ]
  },
  {
   "cell_type": "code",
   "execution_count": 17,
   "id": "a0856be5",
   "metadata": {
    "execution": {
     "iopub.execute_input": "2024-08-09T02:58:56.448059Z",
     "iopub.status.busy": "2024-08-09T02:58:56.447089Z",
     "iopub.status.idle": "2024-08-09T02:58:56.458006Z",
     "shell.execute_reply": "2024-08-09T02:58:56.456882Z"
    },
    "papermill": {
     "duration": 0.027517,
     "end_time": "2024-08-09T02:58:56.460324",
     "exception": false,
     "start_time": "2024-08-09T02:58:56.432807",
     "status": "completed"
    },
    "tags": []
   },
   "outputs": [
    {
     "name": "stdout",
     "output_type": "stream",
     "text": [
      "age                          9\n",
      "blood_pressure              12\n",
      "specific_gravity            47\n",
      "albumin                     46\n",
      "sugar                       49\n",
      "red_blood_cells            152\n",
      "pus_cell                    65\n",
      "pus_cell_clumps              4\n",
      "bacteria                     4\n",
      "blood_glucose_random        44\n",
      "blood_urea                  19\n",
      "serum_creatinine            17\n",
      "sodium                      87\n",
      "potassium                   88\n",
      "haemoglobin                 52\n",
      "packed_cell_volume          71\n",
      "white_blood_cell_count     106\n",
      "red_blood_cell_count       131\n",
      "hypertension                 2\n",
      "diabetes_mellitus            2\n",
      "coronary_artery_disease      2\n",
      "appetite                     1\n",
      "peda_edema                   1\n",
      "aanemia                      1\n",
      "class                        0\n",
      "dtype: int64\n"
     ]
    },
    {
     "data": {
      "text/plain": [
       "1012"
      ]
     },
     "execution_count": 17,
     "metadata": {},
     "output_type": "execute_result"
    }
   ],
   "source": [
    "print(df.isnull().sum())\n",
    "df.isnull().sum().sum()"
   ]
  },
  {
   "cell_type": "code",
   "execution_count": 18,
   "id": "209c1e77",
   "metadata": {
    "execution": {
     "iopub.execute_input": "2024-08-09T02:58:56.488991Z",
     "iopub.status.busy": "2024-08-09T02:58:56.488600Z",
     "iopub.status.idle": "2024-08-09T02:58:56.501492Z",
     "shell.execute_reply": "2024-08-09T02:58:56.500298Z"
    },
    "papermill": {
     "duration": 0.029962,
     "end_time": "2024-08-09T02:58:56.503954",
     "exception": false,
     "start_time": "2024-08-09T02:58:56.473992",
     "status": "completed"
    },
    "tags": []
   },
   "outputs": [],
   "source": [
    "#replacing the missing values with the mean for the numerical features\n",
    "num_cols = df.columns[df.dtypes==\"float64\"].tolist()\n",
    "for col in num_cols:\n",
    "    df[col] = df[col].fillna(df[col].mean())"
   ]
  },
  {
   "cell_type": "code",
   "execution_count": 19,
   "id": "6c7e4872",
   "metadata": {
    "execution": {
     "iopub.execute_input": "2024-08-09T02:58:56.533842Z",
     "iopub.status.busy": "2024-08-09T02:58:56.532856Z",
     "iopub.status.idle": "2024-08-09T02:58:56.542558Z",
     "shell.execute_reply": "2024-08-09T02:58:56.541513Z"
    },
    "papermill": {
     "duration": 0.02682,
     "end_time": "2024-08-09T02:58:56.544770",
     "exception": false,
     "start_time": "2024-08-09T02:58:56.517950",
     "status": "completed"
    },
    "tags": []
   },
   "outputs": [
    {
     "data": {
      "text/plain": [
       "age                          0\n",
       "blood_pressure               0\n",
       "specific_gravity             0\n",
       "albumin                      0\n",
       "sugar                        0\n",
       "red_blood_cells            152\n",
       "pus_cell                    65\n",
       "pus_cell_clumps              4\n",
       "bacteria                     4\n",
       "blood_glucose_random         0\n",
       "blood_urea                   0\n",
       "serum_creatinine             0\n",
       "sodium                       0\n",
       "potassium                    0\n",
       "haemoglobin                  0\n",
       "packed_cell_volume           0\n",
       "white_blood_cell_count       0\n",
       "red_blood_cell_count         0\n",
       "hypertension                 2\n",
       "diabetes_mellitus            2\n",
       "coronary_artery_disease      2\n",
       "appetite                     1\n",
       "peda_edema                   1\n",
       "aanemia                      1\n",
       "class                        0\n",
       "dtype: int64"
      ]
     },
     "execution_count": 19,
     "metadata": {},
     "output_type": "execute_result"
    }
   ],
   "source": [
    "df.isnull().sum()"
   ]
  },
  {
   "cell_type": "code",
   "execution_count": 20,
   "id": "a73a63a9",
   "metadata": {
    "execution": {
     "iopub.execute_input": "2024-08-09T02:58:56.574982Z",
     "iopub.status.busy": "2024-08-09T02:58:56.574121Z",
     "iopub.status.idle": "2024-08-09T02:58:56.579497Z",
     "shell.execute_reply": "2024-08-09T02:58:56.578365Z"
    },
    "papermill": {
     "duration": 0.02257,
     "end_time": "2024-08-09T02:58:56.581779",
     "exception": false,
     "start_time": "2024-08-09T02:58:56.559209",
     "status": "completed"
    },
    "tags": []
   },
   "outputs": [],
   "source": [
    "cat_cols = ['red_blood_cells','pus_cell','pus_cell_clumps','bacteria','hypertension',\n",
    "        'diabetes_mellitus','coronary_artery_disease','appetite','peda_edema','aanemia','class']"
   ]
  },
  {
   "cell_type": "code",
   "execution_count": 21,
   "id": "c9c78ed9",
   "metadata": {
    "execution": {
     "iopub.execute_input": "2024-08-09T02:58:56.670239Z",
     "iopub.status.busy": "2024-08-09T02:58:56.669221Z",
     "iopub.status.idle": "2024-08-09T02:58:56.680254Z",
     "shell.execute_reply": "2024-08-09T02:58:56.679001Z"
    },
    "papermill": {
     "duration": 0.02839,
     "end_time": "2024-08-09T02:58:56.682551",
     "exception": false,
     "start_time": "2024-08-09T02:58:56.654161",
     "status": "completed"
    },
    "tags": []
   },
   "outputs": [],
   "source": [
    "#data encoding\n",
    "from sklearn import preprocessing\n",
    "label_encoder = preprocessing.LabelEncoder()\n",
    "for col in cat_cols:\n",
    "    df[col]= label_encoder.fit_transform(df[col])"
   ]
  },
  {
   "cell_type": "markdown",
   "id": "c46aa0c4",
   "metadata": {
    "papermill": {
     "duration": 0.013688,
     "end_time": "2024-08-09T02:58:56.709923",
     "exception": false,
     "start_time": "2024-08-09T02:58:56.696235",
     "status": "completed"
    },
    "tags": []
   },
   "source": [
    "Now data elements are consistnet. Need to handle the missing values. For this we will deploy the DataFrameMapper and SimpleImputer from Sklearn package"
   ]
  },
  {
   "cell_type": "code",
   "execution_count": 22,
   "id": "de0bdedc",
   "metadata": {
    "execution": {
     "iopub.execute_input": "2024-08-09T02:58:56.740061Z",
     "iopub.status.busy": "2024-08-09T02:58:56.739630Z",
     "iopub.status.idle": "2024-08-09T02:58:56.752626Z",
     "shell.execute_reply": "2024-08-09T02:58:56.751628Z"
    },
    "papermill": {
     "duration": 0.031566,
     "end_time": "2024-08-09T02:58:56.755009",
     "exception": false,
     "start_time": "2024-08-09T02:58:56.723443",
     "status": "completed"
    },
    "tags": []
   },
   "outputs": [
    {
     "data": {
      "text/html": [
       "<style>#sk-container-id-1 {color: black;background-color: white;}#sk-container-id-1 pre{padding: 0;}#sk-container-id-1 div.sk-toggleable {background-color: white;}#sk-container-id-1 label.sk-toggleable__label {cursor: pointer;display: block;width: 100%;margin-bottom: 0;padding: 0.3em;box-sizing: border-box;text-align: center;}#sk-container-id-1 label.sk-toggleable__label-arrow:before {content: \"▸\";float: left;margin-right: 0.25em;color: #696969;}#sk-container-id-1 label.sk-toggleable__label-arrow:hover:before {color: black;}#sk-container-id-1 div.sk-estimator:hover label.sk-toggleable__label-arrow:before {color: black;}#sk-container-id-1 div.sk-toggleable__content {max-height: 0;max-width: 0;overflow: hidden;text-align: left;background-color: #f0f8ff;}#sk-container-id-1 div.sk-toggleable__content pre {margin: 0.2em;color: black;border-radius: 0.25em;background-color: #f0f8ff;}#sk-container-id-1 input.sk-toggleable__control:checked~div.sk-toggleable__content {max-height: 200px;max-width: 100%;overflow: auto;}#sk-container-id-1 input.sk-toggleable__control:checked~label.sk-toggleable__label-arrow:before {content: \"▾\";}#sk-container-id-1 div.sk-estimator input.sk-toggleable__control:checked~label.sk-toggleable__label {background-color: #d4ebff;}#sk-container-id-1 div.sk-label input.sk-toggleable__control:checked~label.sk-toggleable__label {background-color: #d4ebff;}#sk-container-id-1 input.sk-hidden--visually {border: 0;clip: rect(1px 1px 1px 1px);clip: rect(1px, 1px, 1px, 1px);height: 1px;margin: -1px;overflow: hidden;padding: 0;position: absolute;width: 1px;}#sk-container-id-1 div.sk-estimator {font-family: monospace;background-color: #f0f8ff;border: 1px dotted black;border-radius: 0.25em;box-sizing: border-box;margin-bottom: 0.5em;}#sk-container-id-1 div.sk-estimator:hover {background-color: #d4ebff;}#sk-container-id-1 div.sk-parallel-item::after {content: \"\";width: 100%;border-bottom: 1px solid gray;flex-grow: 1;}#sk-container-id-1 div.sk-label:hover label.sk-toggleable__label {background-color: #d4ebff;}#sk-container-id-1 div.sk-serial::before {content: \"\";position: absolute;border-left: 1px solid gray;box-sizing: border-box;top: 0;bottom: 0;left: 50%;z-index: 0;}#sk-container-id-1 div.sk-serial {display: flex;flex-direction: column;align-items: center;background-color: white;padding-right: 0.2em;padding-left: 0.2em;position: relative;}#sk-container-id-1 div.sk-item {position: relative;z-index: 1;}#sk-container-id-1 div.sk-parallel {display: flex;align-items: stretch;justify-content: center;background-color: white;position: relative;}#sk-container-id-1 div.sk-item::before, #sk-container-id-1 div.sk-parallel-item::before {content: \"\";position: absolute;border-left: 1px solid gray;box-sizing: border-box;top: 0;bottom: 0;left: 50%;z-index: -1;}#sk-container-id-1 div.sk-parallel-item {display: flex;flex-direction: column;z-index: 1;position: relative;background-color: white;}#sk-container-id-1 div.sk-parallel-item:first-child::after {align-self: flex-end;width: 50%;}#sk-container-id-1 div.sk-parallel-item:last-child::after {align-self: flex-start;width: 50%;}#sk-container-id-1 div.sk-parallel-item:only-child::after {width: 0;}#sk-container-id-1 div.sk-dashed-wrapped {border: 1px dashed gray;margin: 0 0.4em 0.5em 0.4em;box-sizing: border-box;padding-bottom: 0.4em;background-color: white;}#sk-container-id-1 div.sk-label label {font-family: monospace;font-weight: bold;display: inline-block;line-height: 1.2em;}#sk-container-id-1 div.sk-label-container {text-align: center;}#sk-container-id-1 div.sk-container {/* jupyter's `normalize.less` sets `[hidden] { display: none; }` but bootstrap.min.css set `[hidden] { display: none !important; }` so we also need the `!important` here to be able to override the default hidden behavior on the sphinx rendered scikit-learn.org. See: https://github.com/scikit-learn/scikit-learn/issues/21755 */display: inline-block !important;position: relative;}#sk-container-id-1 div.sk-text-repr-fallback {display: none;}</style><div id=\"sk-container-id-1\" class=\"sk-top-container\"><div class=\"sk-text-repr-fallback\"><pre>KNNImputer(n_neighbors=3)</pre><b>In a Jupyter environment, please rerun this cell to show the HTML representation or trust the notebook. <br />On GitHub, the HTML representation is unable to render, please try loading this page with nbviewer.org.</b></div><div class=\"sk-container\" hidden><div class=\"sk-item\"><div class=\"sk-estimator sk-toggleable\"><input class=\"sk-toggleable__control sk-hidden--visually\" id=\"sk-estimator-id-1\" type=\"checkbox\" checked><label for=\"sk-estimator-id-1\" class=\"sk-toggleable__label sk-toggleable__label-arrow\">KNNImputer</label><div class=\"sk-toggleable__content\"><pre>KNNImputer(n_neighbors=3)</pre></div></div></div></div></div>"
      ],
      "text/plain": [
       "KNNImputer(n_neighbors=3)"
      ]
     },
     "execution_count": 22,
     "metadata": {},
     "output_type": "execute_result"
    }
   ],
   "source": [
    "imputer = KNNImputer(n_neighbors=3)\n",
    "imputer.fit(df)"
   ]
  },
  {
   "cell_type": "code",
   "execution_count": 23,
   "id": "9c620fd6",
   "metadata": {
    "execution": {
     "iopub.execute_input": "2024-08-09T02:58:56.784954Z",
     "iopub.status.busy": "2024-08-09T02:58:56.783915Z",
     "iopub.status.idle": "2024-08-09T02:58:56.792129Z",
     "shell.execute_reply": "2024-08-09T02:58:56.790947Z"
    },
    "papermill": {
     "duration": 0.025532,
     "end_time": "2024-08-09T02:58:56.794441",
     "exception": false,
     "start_time": "2024-08-09T02:58:56.768909",
     "status": "completed"
    },
    "tags": []
   },
   "outputs": [],
   "source": [
    "data = imputer.transform(df)"
   ]
  },
  {
   "cell_type": "code",
   "execution_count": 24,
   "id": "d3404c7a",
   "metadata": {
    "execution": {
     "iopub.execute_input": "2024-08-09T02:58:56.823902Z",
     "iopub.status.busy": "2024-08-09T02:58:56.823173Z",
     "iopub.status.idle": "2024-08-09T02:58:56.829002Z",
     "shell.execute_reply": "2024-08-09T02:58:56.827609Z"
    },
    "papermill": {
     "duration": 0.02341,
     "end_time": "2024-08-09T02:58:56.831637",
     "exception": false,
     "start_time": "2024-08-09T02:58:56.808227",
     "status": "completed"
    },
    "tags": []
   },
   "outputs": [],
   "source": [
    "df = pd.DataFrame(data, index=df.index, columns=df.columns)"
   ]
  },
  {
   "cell_type": "code",
   "execution_count": 25,
   "id": "322950e2",
   "metadata": {
    "execution": {
     "iopub.execute_input": "2024-08-09T02:58:56.861381Z",
     "iopub.status.busy": "2024-08-09T02:58:56.860323Z",
     "iopub.status.idle": "2024-08-09T02:58:56.931341Z",
     "shell.execute_reply": "2024-08-09T02:58:56.930130Z"
    },
    "papermill": {
     "duration": 0.088313,
     "end_time": "2024-08-09T02:58:56.933785",
     "exception": false,
     "start_time": "2024-08-09T02:58:56.845472",
     "status": "completed"
    },
    "tags": []
   },
   "outputs": [
    {
     "data": {
      "text/html": [
       "<div>\n",
       "<style scoped>\n",
       "    .dataframe tbody tr th:only-of-type {\n",
       "        vertical-align: middle;\n",
       "    }\n",
       "\n",
       "    .dataframe tbody tr th {\n",
       "        vertical-align: top;\n",
       "    }\n",
       "\n",
       "    .dataframe thead th {\n",
       "        text-align: right;\n",
       "    }\n",
       "</style>\n",
       "<table border=\"1\" class=\"dataframe\">\n",
       "  <thead>\n",
       "    <tr style=\"text-align: right;\">\n",
       "      <th></th>\n",
       "      <th>age</th>\n",
       "      <th>blood_pressure</th>\n",
       "      <th>specific_gravity</th>\n",
       "      <th>albumin</th>\n",
       "      <th>sugar</th>\n",
       "      <th>red_blood_cells</th>\n",
       "      <th>pus_cell</th>\n",
       "      <th>pus_cell_clumps</th>\n",
       "      <th>bacteria</th>\n",
       "      <th>blood_glucose_random</th>\n",
       "      <th>blood_urea</th>\n",
       "      <th>serum_creatinine</th>\n",
       "      <th>sodium</th>\n",
       "      <th>potassium</th>\n",
       "      <th>haemoglobin</th>\n",
       "      <th>packed_cell_volume</th>\n",
       "      <th>white_blood_cell_count</th>\n",
       "      <th>red_blood_cell_count</th>\n",
       "      <th>hypertension</th>\n",
       "      <th>diabetes_mellitus</th>\n",
       "      <th>coronary_artery_disease</th>\n",
       "      <th>appetite</th>\n",
       "      <th>peda_edema</th>\n",
       "      <th>aanemia</th>\n",
       "      <th>class</th>\n",
       "    </tr>\n",
       "  </thead>\n",
       "  <tbody>\n",
       "    <tr>\n",
       "      <th>count</th>\n",
       "      <td>400.000000</td>\n",
       "      <td>400.000000</td>\n",
       "      <td>400.000000</td>\n",
       "      <td>400.000000</td>\n",
       "      <td>400.000000</td>\n",
       "      <td>400.000000</td>\n",
       "      <td>400.000000</td>\n",
       "      <td>400.000000</td>\n",
       "      <td>400.000000</td>\n",
       "      <td>400.000000</td>\n",
       "      <td>400.000000</td>\n",
       "      <td>400.000000</td>\n",
       "      <td>400.000000</td>\n",
       "      <td>400.000000</td>\n",
       "      <td>400.000000</td>\n",
       "      <td>400.000000</td>\n",
       "      <td>400.000000</td>\n",
       "      <td>400.000000</td>\n",
       "      <td>400.000000</td>\n",
       "      <td>400.000000</td>\n",
       "      <td>400.000000</td>\n",
       "      <td>400.000000</td>\n",
       "      <td>400.000000</td>\n",
       "      <td>400.00000</td>\n",
       "      <td>400.000000</td>\n",
       "    </tr>\n",
       "    <tr>\n",
       "      <th>mean</th>\n",
       "      <td>51.483376</td>\n",
       "      <td>76.469072</td>\n",
       "      <td>1.017408</td>\n",
       "      <td>1.016949</td>\n",
       "      <td>0.450142</td>\n",
       "      <td>1.262500</td>\n",
       "      <td>0.972500</td>\n",
       "      <td>0.125000</td>\n",
       "      <td>0.075000</td>\n",
       "      <td>148.036517</td>\n",
       "      <td>57.425722</td>\n",
       "      <td>3.072454</td>\n",
       "      <td>137.528754</td>\n",
       "      <td>4.627244</td>\n",
       "      <td>12.526437</td>\n",
       "      <td>38.884498</td>\n",
       "      <td>8406.122449</td>\n",
       "      <td>4.707435</td>\n",
       "      <td>0.377500</td>\n",
       "      <td>3.310000</td>\n",
       "      <td>0.095000</td>\n",
       "      <td>0.210000</td>\n",
       "      <td>0.195000</td>\n",
       "      <td>0.15500</td>\n",
       "      <td>0.375000</td>\n",
       "    </tr>\n",
       "    <tr>\n",
       "      <th>std</th>\n",
       "      <td>16.974966</td>\n",
       "      <td>13.476298</td>\n",
       "      <td>0.005369</td>\n",
       "      <td>1.272318</td>\n",
       "      <td>1.029487</td>\n",
       "      <td>0.655491</td>\n",
       "      <td>0.593823</td>\n",
       "      <td>0.360138</td>\n",
       "      <td>0.299331</td>\n",
       "      <td>74.782634</td>\n",
       "      <td>49.285887</td>\n",
       "      <td>5.617490</td>\n",
       "      <td>9.204273</td>\n",
       "      <td>2.819783</td>\n",
       "      <td>2.716171</td>\n",
       "      <td>8.151081</td>\n",
       "      <td>2523.219976</td>\n",
       "      <td>0.840314</td>\n",
       "      <td>0.495588</td>\n",
       "      <td>0.591417</td>\n",
       "      <td>0.310186</td>\n",
       "      <td>0.413918</td>\n",
       "      <td>0.402965</td>\n",
       "      <td>0.36921</td>\n",
       "      <td>0.484729</td>\n",
       "    </tr>\n",
       "    <tr>\n",
       "      <th>min</th>\n",
       "      <td>2.000000</td>\n",
       "      <td>50.000000</td>\n",
       "      <td>1.005000</td>\n",
       "      <td>0.000000</td>\n",
       "      <td>0.000000</td>\n",
       "      <td>0.000000</td>\n",
       "      <td>0.000000</td>\n",
       "      <td>0.000000</td>\n",
       "      <td>0.000000</td>\n",
       "      <td>22.000000</td>\n",
       "      <td>1.500000</td>\n",
       "      <td>0.400000</td>\n",
       "      <td>4.500000</td>\n",
       "      <td>2.500000</td>\n",
       "      <td>3.100000</td>\n",
       "      <td>9.000000</td>\n",
       "      <td>2200.000000</td>\n",
       "      <td>2.100000</td>\n",
       "      <td>0.000000</td>\n",
       "      <td>0.000000</td>\n",
       "      <td>0.000000</td>\n",
       "      <td>0.000000</td>\n",
       "      <td>0.000000</td>\n",
       "      <td>0.00000</td>\n",
       "      <td>0.000000</td>\n",
       "    </tr>\n",
       "    <tr>\n",
       "      <th>25%</th>\n",
       "      <td>42.000000</td>\n",
       "      <td>70.000000</td>\n",
       "      <td>1.015000</td>\n",
       "      <td>0.000000</td>\n",
       "      <td>0.000000</td>\n",
       "      <td>1.000000</td>\n",
       "      <td>1.000000</td>\n",
       "      <td>0.000000</td>\n",
       "      <td>0.000000</td>\n",
       "      <td>101.000000</td>\n",
       "      <td>27.000000</td>\n",
       "      <td>0.900000</td>\n",
       "      <td>135.000000</td>\n",
       "      <td>4.000000</td>\n",
       "      <td>10.875000</td>\n",
       "      <td>34.000000</td>\n",
       "      <td>6975.000000</td>\n",
       "      <td>4.500000</td>\n",
       "      <td>0.000000</td>\n",
       "      <td>3.000000</td>\n",
       "      <td>0.000000</td>\n",
       "      <td>0.000000</td>\n",
       "      <td>0.000000</td>\n",
       "      <td>0.00000</td>\n",
       "      <td>0.000000</td>\n",
       "    </tr>\n",
       "    <tr>\n",
       "      <th>50%</th>\n",
       "      <td>54.000000</td>\n",
       "      <td>78.234536</td>\n",
       "      <td>1.017408</td>\n",
       "      <td>1.000000</td>\n",
       "      <td>0.000000</td>\n",
       "      <td>1.000000</td>\n",
       "      <td>1.000000</td>\n",
       "      <td>0.000000</td>\n",
       "      <td>0.000000</td>\n",
       "      <td>126.000000</td>\n",
       "      <td>44.000000</td>\n",
       "      <td>1.400000</td>\n",
       "      <td>137.528754</td>\n",
       "      <td>4.627244</td>\n",
       "      <td>12.526437</td>\n",
       "      <td>38.884498</td>\n",
       "      <td>8406.122449</td>\n",
       "      <td>4.707435</td>\n",
       "      <td>0.000000</td>\n",
       "      <td>3.000000</td>\n",
       "      <td>0.000000</td>\n",
       "      <td>0.000000</td>\n",
       "      <td>0.000000</td>\n",
       "      <td>0.00000</td>\n",
       "      <td>0.000000</td>\n",
       "    </tr>\n",
       "    <tr>\n",
       "      <th>75%</th>\n",
       "      <td>64.000000</td>\n",
       "      <td>80.000000</td>\n",
       "      <td>1.020000</td>\n",
       "      <td>2.000000</td>\n",
       "      <td>0.450142</td>\n",
       "      <td>2.000000</td>\n",
       "      <td>1.000000</td>\n",
       "      <td>0.000000</td>\n",
       "      <td>0.000000</td>\n",
       "      <td>150.000000</td>\n",
       "      <td>61.750000</td>\n",
       "      <td>3.072454</td>\n",
       "      <td>141.000000</td>\n",
       "      <td>4.800000</td>\n",
       "      <td>14.625000</td>\n",
       "      <td>44.000000</td>\n",
       "      <td>9400.000000</td>\n",
       "      <td>5.100000</td>\n",
       "      <td>1.000000</td>\n",
       "      <td>4.000000</td>\n",
       "      <td>0.000000</td>\n",
       "      <td>0.000000</td>\n",
       "      <td>0.000000</td>\n",
       "      <td>0.00000</td>\n",
       "      <td>1.000000</td>\n",
       "    </tr>\n",
       "    <tr>\n",
       "      <th>max</th>\n",
       "      <td>90.000000</td>\n",
       "      <td>180.000000</td>\n",
       "      <td>1.025000</td>\n",
       "      <td>5.000000</td>\n",
       "      <td>5.000000</td>\n",
       "      <td>2.000000</td>\n",
       "      <td>2.000000</td>\n",
       "      <td>2.000000</td>\n",
       "      <td>2.000000</td>\n",
       "      <td>490.000000</td>\n",
       "      <td>391.000000</td>\n",
       "      <td>76.000000</td>\n",
       "      <td>163.000000</td>\n",
       "      <td>47.000000</td>\n",
       "      <td>17.800000</td>\n",
       "      <td>54.000000</td>\n",
       "      <td>26400.000000</td>\n",
       "      <td>8.000000</td>\n",
       "      <td>2.000000</td>\n",
       "      <td>5.000000</td>\n",
       "      <td>2.000000</td>\n",
       "      <td>2.000000</td>\n",
       "      <td>2.000000</td>\n",
       "      <td>2.00000</td>\n",
       "      <td>1.000000</td>\n",
       "    </tr>\n",
       "  </tbody>\n",
       "</table>\n",
       "</div>"
      ],
      "text/plain": [
       "              age  blood_pressure  specific_gravity     albumin       sugar  \\\n",
       "count  400.000000      400.000000        400.000000  400.000000  400.000000   \n",
       "mean    51.483376       76.469072          1.017408    1.016949    0.450142   \n",
       "std     16.974966       13.476298          0.005369    1.272318    1.029487   \n",
       "min      2.000000       50.000000          1.005000    0.000000    0.000000   \n",
       "25%     42.000000       70.000000          1.015000    0.000000    0.000000   \n",
       "50%     54.000000       78.234536          1.017408    1.000000    0.000000   \n",
       "75%     64.000000       80.000000          1.020000    2.000000    0.450142   \n",
       "max     90.000000      180.000000          1.025000    5.000000    5.000000   \n",
       "\n",
       "       red_blood_cells    pus_cell  pus_cell_clumps    bacteria  \\\n",
       "count       400.000000  400.000000       400.000000  400.000000   \n",
       "mean          1.262500    0.972500         0.125000    0.075000   \n",
       "std           0.655491    0.593823         0.360138    0.299331   \n",
       "min           0.000000    0.000000         0.000000    0.000000   \n",
       "25%           1.000000    1.000000         0.000000    0.000000   \n",
       "50%           1.000000    1.000000         0.000000    0.000000   \n",
       "75%           2.000000    1.000000         0.000000    0.000000   \n",
       "max           2.000000    2.000000         2.000000    2.000000   \n",
       "\n",
       "       blood_glucose_random  blood_urea  serum_creatinine      sodium  \\\n",
       "count            400.000000  400.000000        400.000000  400.000000   \n",
       "mean             148.036517   57.425722          3.072454  137.528754   \n",
       "std               74.782634   49.285887          5.617490    9.204273   \n",
       "min               22.000000    1.500000          0.400000    4.500000   \n",
       "25%              101.000000   27.000000          0.900000  135.000000   \n",
       "50%              126.000000   44.000000          1.400000  137.528754   \n",
       "75%              150.000000   61.750000          3.072454  141.000000   \n",
       "max              490.000000  391.000000         76.000000  163.000000   \n",
       "\n",
       "        potassium  haemoglobin  packed_cell_volume  white_blood_cell_count  \\\n",
       "count  400.000000   400.000000          400.000000              400.000000   \n",
       "mean     4.627244    12.526437           38.884498             8406.122449   \n",
       "std      2.819783     2.716171            8.151081             2523.219976   \n",
       "min      2.500000     3.100000            9.000000             2200.000000   \n",
       "25%      4.000000    10.875000           34.000000             6975.000000   \n",
       "50%      4.627244    12.526437           38.884498             8406.122449   \n",
       "75%      4.800000    14.625000           44.000000             9400.000000   \n",
       "max     47.000000    17.800000           54.000000            26400.000000   \n",
       "\n",
       "       red_blood_cell_count  hypertension  diabetes_mellitus  \\\n",
       "count            400.000000    400.000000         400.000000   \n",
       "mean               4.707435      0.377500           3.310000   \n",
       "std                0.840314      0.495588           0.591417   \n",
       "min                2.100000      0.000000           0.000000   \n",
       "25%                4.500000      0.000000           3.000000   \n",
       "50%                4.707435      0.000000           3.000000   \n",
       "75%                5.100000      1.000000           4.000000   \n",
       "max                8.000000      2.000000           5.000000   \n",
       "\n",
       "       coronary_artery_disease    appetite  peda_edema    aanemia       class  \n",
       "count               400.000000  400.000000  400.000000  400.00000  400.000000  \n",
       "mean                  0.095000    0.210000    0.195000    0.15500    0.375000  \n",
       "std                   0.310186    0.413918    0.402965    0.36921    0.484729  \n",
       "min                   0.000000    0.000000    0.000000    0.00000    0.000000  \n",
       "25%                   0.000000    0.000000    0.000000    0.00000    0.000000  \n",
       "50%                   0.000000    0.000000    0.000000    0.00000    0.000000  \n",
       "75%                   0.000000    0.000000    0.000000    0.00000    1.000000  \n",
       "max                   2.000000    2.000000    2.000000    2.00000    1.000000  "
      ]
     },
     "execution_count": 25,
     "metadata": {},
     "output_type": "execute_result"
    }
   ],
   "source": [
    "df.describe()"
   ]
  },
  {
   "cell_type": "code",
   "execution_count": 26,
   "id": "adcfac0b",
   "metadata": {
    "execution": {
     "iopub.execute_input": "2024-08-09T02:58:56.964467Z",
     "iopub.status.busy": "2024-08-09T02:58:56.963998Z",
     "iopub.status.idle": "2024-08-09T02:58:56.970395Z",
     "shell.execute_reply": "2024-08-09T02:58:56.969196Z"
    },
    "papermill": {
     "duration": 0.024207,
     "end_time": "2024-08-09T02:58:56.972711",
     "exception": false,
     "start_time": "2024-08-09T02:58:56.948504",
     "status": "completed"
    },
    "tags": []
   },
   "outputs": [],
   "source": [
    "#input split\n",
    "X=df.drop(columns=[\"class\"],axis=1)\n",
    "y=df[\"class\"]"
   ]
  },
  {
   "cell_type": "code",
   "execution_count": 27,
   "id": "90516b27",
   "metadata": {
    "execution": {
     "iopub.execute_input": "2024-08-09T02:58:57.003360Z",
     "iopub.status.busy": "2024-08-09T02:58:57.002960Z",
     "iopub.status.idle": "2024-08-09T02:58:57.034665Z",
     "shell.execute_reply": "2024-08-09T02:58:57.033597Z"
    },
    "papermill": {
     "duration": 0.050271,
     "end_time": "2024-08-09T02:58:57.037068",
     "exception": false,
     "start_time": "2024-08-09T02:58:56.986797",
     "status": "completed"
    },
    "tags": []
   },
   "outputs": [
    {
     "data": {
      "text/html": [
       "<div>\n",
       "<style scoped>\n",
       "    .dataframe tbody tr th:only-of-type {\n",
       "        vertical-align: middle;\n",
       "    }\n",
       "\n",
       "    .dataframe tbody tr th {\n",
       "        vertical-align: top;\n",
       "    }\n",
       "\n",
       "    .dataframe thead th {\n",
       "        text-align: right;\n",
       "    }\n",
       "</style>\n",
       "<table border=\"1\" class=\"dataframe\">\n",
       "  <thead>\n",
       "    <tr style=\"text-align: right;\">\n",
       "      <th></th>\n",
       "      <th>age</th>\n",
       "      <th>blood_pressure</th>\n",
       "      <th>specific_gravity</th>\n",
       "      <th>albumin</th>\n",
       "      <th>sugar</th>\n",
       "      <th>red_blood_cells</th>\n",
       "      <th>pus_cell</th>\n",
       "      <th>pus_cell_clumps</th>\n",
       "      <th>bacteria</th>\n",
       "      <th>blood_glucose_random</th>\n",
       "      <th>blood_urea</th>\n",
       "      <th>serum_creatinine</th>\n",
       "      <th>sodium</th>\n",
       "      <th>potassium</th>\n",
       "      <th>haemoglobin</th>\n",
       "      <th>packed_cell_volume</th>\n",
       "      <th>white_blood_cell_count</th>\n",
       "      <th>red_blood_cell_count</th>\n",
       "      <th>hypertension</th>\n",
       "      <th>diabetes_mellitus</th>\n",
       "      <th>coronary_artery_disease</th>\n",
       "      <th>appetite</th>\n",
       "      <th>peda_edema</th>\n",
       "      <th>aanemia</th>\n",
       "    </tr>\n",
       "  </thead>\n",
       "  <tbody>\n",
       "    <tr>\n",
       "      <th>0</th>\n",
       "      <td>48.0</td>\n",
       "      <td>80.0</td>\n",
       "      <td>1.020</td>\n",
       "      <td>1.0</td>\n",
       "      <td>0.0</td>\n",
       "      <td>2.0</td>\n",
       "      <td>1.0</td>\n",
       "      <td>0.0</td>\n",
       "      <td>0.0</td>\n",
       "      <td>121.000000</td>\n",
       "      <td>36.0</td>\n",
       "      <td>1.2</td>\n",
       "      <td>137.528754</td>\n",
       "      <td>4.627244</td>\n",
       "      <td>15.4</td>\n",
       "      <td>44.0</td>\n",
       "      <td>7800.0</td>\n",
       "      <td>5.200000</td>\n",
       "      <td>1.0</td>\n",
       "      <td>4.0</td>\n",
       "      <td>0.0</td>\n",
       "      <td>0.0</td>\n",
       "      <td>0.0</td>\n",
       "      <td>0.0</td>\n",
       "    </tr>\n",
       "    <tr>\n",
       "      <th>1</th>\n",
       "      <td>7.0</td>\n",
       "      <td>50.0</td>\n",
       "      <td>1.020</td>\n",
       "      <td>4.0</td>\n",
       "      <td>0.0</td>\n",
       "      <td>2.0</td>\n",
       "      <td>1.0</td>\n",
       "      <td>0.0</td>\n",
       "      <td>0.0</td>\n",
       "      <td>148.036517</td>\n",
       "      <td>18.0</td>\n",
       "      <td>0.8</td>\n",
       "      <td>137.528754</td>\n",
       "      <td>4.627244</td>\n",
       "      <td>11.3</td>\n",
       "      <td>38.0</td>\n",
       "      <td>6000.0</td>\n",
       "      <td>4.707435</td>\n",
       "      <td>0.0</td>\n",
       "      <td>3.0</td>\n",
       "      <td>0.0</td>\n",
       "      <td>0.0</td>\n",
       "      <td>0.0</td>\n",
       "      <td>0.0</td>\n",
       "    </tr>\n",
       "    <tr>\n",
       "      <th>2</th>\n",
       "      <td>62.0</td>\n",
       "      <td>80.0</td>\n",
       "      <td>1.010</td>\n",
       "      <td>2.0</td>\n",
       "      <td>3.0</td>\n",
       "      <td>1.0</td>\n",
       "      <td>1.0</td>\n",
       "      <td>0.0</td>\n",
       "      <td>0.0</td>\n",
       "      <td>423.000000</td>\n",
       "      <td>53.0</td>\n",
       "      <td>1.8</td>\n",
       "      <td>137.528754</td>\n",
       "      <td>4.627244</td>\n",
       "      <td>9.6</td>\n",
       "      <td>31.0</td>\n",
       "      <td>7500.0</td>\n",
       "      <td>4.707435</td>\n",
       "      <td>0.0</td>\n",
       "      <td>4.0</td>\n",
       "      <td>0.0</td>\n",
       "      <td>1.0</td>\n",
       "      <td>0.0</td>\n",
       "      <td>1.0</td>\n",
       "    </tr>\n",
       "    <tr>\n",
       "      <th>3</th>\n",
       "      <td>48.0</td>\n",
       "      <td>70.0</td>\n",
       "      <td>1.005</td>\n",
       "      <td>4.0</td>\n",
       "      <td>0.0</td>\n",
       "      <td>1.0</td>\n",
       "      <td>0.0</td>\n",
       "      <td>1.0</td>\n",
       "      <td>0.0</td>\n",
       "      <td>117.000000</td>\n",
       "      <td>56.0</td>\n",
       "      <td>3.8</td>\n",
       "      <td>111.000000</td>\n",
       "      <td>2.500000</td>\n",
       "      <td>11.2</td>\n",
       "      <td>32.0</td>\n",
       "      <td>6700.0</td>\n",
       "      <td>3.900000</td>\n",
       "      <td>1.0</td>\n",
       "      <td>3.0</td>\n",
       "      <td>0.0</td>\n",
       "      <td>1.0</td>\n",
       "      <td>1.0</td>\n",
       "      <td>1.0</td>\n",
       "    </tr>\n",
       "    <tr>\n",
       "      <th>4</th>\n",
       "      <td>51.0</td>\n",
       "      <td>80.0</td>\n",
       "      <td>1.010</td>\n",
       "      <td>2.0</td>\n",
       "      <td>0.0</td>\n",
       "      <td>1.0</td>\n",
       "      <td>1.0</td>\n",
       "      <td>0.0</td>\n",
       "      <td>0.0</td>\n",
       "      <td>106.000000</td>\n",
       "      <td>26.0</td>\n",
       "      <td>1.4</td>\n",
       "      <td>137.528754</td>\n",
       "      <td>4.627244</td>\n",
       "      <td>11.6</td>\n",
       "      <td>35.0</td>\n",
       "      <td>7300.0</td>\n",
       "      <td>4.600000</td>\n",
       "      <td>0.0</td>\n",
       "      <td>3.0</td>\n",
       "      <td>0.0</td>\n",
       "      <td>0.0</td>\n",
       "      <td>0.0</td>\n",
       "      <td>0.0</td>\n",
       "    </tr>\n",
       "  </tbody>\n",
       "</table>\n",
       "</div>"
      ],
      "text/plain": [
       "    age  blood_pressure  specific_gravity  albumin  sugar  red_blood_cells  \\\n",
       "0  48.0            80.0             1.020      1.0    0.0              2.0   \n",
       "1   7.0            50.0             1.020      4.0    0.0              2.0   \n",
       "2  62.0            80.0             1.010      2.0    3.0              1.0   \n",
       "3  48.0            70.0             1.005      4.0    0.0              1.0   \n",
       "4  51.0            80.0             1.010      2.0    0.0              1.0   \n",
       "\n",
       "   pus_cell  pus_cell_clumps  bacteria  blood_glucose_random  blood_urea  \\\n",
       "0       1.0              0.0       0.0            121.000000        36.0   \n",
       "1       1.0              0.0       0.0            148.036517        18.0   \n",
       "2       1.0              0.0       0.0            423.000000        53.0   \n",
       "3       0.0              1.0       0.0            117.000000        56.0   \n",
       "4       1.0              0.0       0.0            106.000000        26.0   \n",
       "\n",
       "   serum_creatinine      sodium  potassium  haemoglobin  packed_cell_volume  \\\n",
       "0               1.2  137.528754   4.627244         15.4                44.0   \n",
       "1               0.8  137.528754   4.627244         11.3                38.0   \n",
       "2               1.8  137.528754   4.627244          9.6                31.0   \n",
       "3               3.8  111.000000   2.500000         11.2                32.0   \n",
       "4               1.4  137.528754   4.627244         11.6                35.0   \n",
       "\n",
       "   white_blood_cell_count  red_blood_cell_count  hypertension  \\\n",
       "0                  7800.0              5.200000           1.0   \n",
       "1                  6000.0              4.707435           0.0   \n",
       "2                  7500.0              4.707435           0.0   \n",
       "3                  6700.0              3.900000           1.0   \n",
       "4                  7300.0              4.600000           0.0   \n",
       "\n",
       "   diabetes_mellitus  coronary_artery_disease  appetite  peda_edema  aanemia  \n",
       "0                4.0                      0.0       0.0         0.0      0.0  \n",
       "1                3.0                      0.0       0.0         0.0      0.0  \n",
       "2                4.0                      0.0       1.0         0.0      1.0  \n",
       "3                3.0                      0.0       1.0         1.0      1.0  \n",
       "4                3.0                      0.0       0.0         0.0      0.0  "
      ]
     },
     "execution_count": 27,
     "metadata": {},
     "output_type": "execute_result"
    }
   ],
   "source": [
    "X.head()"
   ]
  },
  {
   "cell_type": "code",
   "execution_count": 28,
   "id": "f4950bd7",
   "metadata": {
    "execution": {
     "iopub.execute_input": "2024-08-09T02:58:57.068891Z",
     "iopub.status.busy": "2024-08-09T02:58:57.068112Z",
     "iopub.status.idle": "2024-08-09T02:58:57.078631Z",
     "shell.execute_reply": "2024-08-09T02:58:57.077401Z"
    },
    "papermill": {
     "duration": 0.029143,
     "end_time": "2024-08-09T02:58:57.081167",
     "exception": false,
     "start_time": "2024-08-09T02:58:57.052024",
     "status": "completed"
    },
    "tags": []
   },
   "outputs": [],
   "source": [
    "# Splitting data into train and test datasetes\n",
    "X_train, X_test, y_train, y_test = train_test_split(X, y, test_size=0.3, random_state=1024)"
   ]
  },
  {
   "cell_type": "code",
   "execution_count": 29,
   "id": "3bee894f",
   "metadata": {
    "execution": {
     "iopub.execute_input": "2024-08-09T02:58:57.112669Z",
     "iopub.status.busy": "2024-08-09T02:58:57.112230Z",
     "iopub.status.idle": "2024-08-09T02:58:57.125298Z",
     "shell.execute_reply": "2024-08-09T02:58:57.124149Z"
    },
    "papermill": {
     "duration": 0.031535,
     "end_time": "2024-08-09T02:58:57.127536",
     "exception": false,
     "start_time": "2024-08-09T02:58:57.096001",
     "status": "completed"
    },
    "tags": []
   },
   "outputs": [],
   "source": [
    "# Standardisation of data\n",
    "scaler = MinMaxScaler()\n",
    "X_train = scaler.fit_transform(X_train)\n",
    "X_test = scaler.fit_transform(X_test)"
   ]
  },
  {
   "cell_type": "code",
   "execution_count": 30,
   "id": "fd3e98da",
   "metadata": {
    "execution": {
     "iopub.execute_input": "2024-08-09T02:58:57.158230Z",
     "iopub.status.busy": "2024-08-09T02:58:57.157866Z",
     "iopub.status.idle": "2024-08-09T02:58:57.165925Z",
     "shell.execute_reply": "2024-08-09T02:58:57.164373Z"
    },
    "papermill": {
     "duration": 0.026663,
     "end_time": "2024-08-09T02:58:57.168698",
     "exception": false,
     "start_time": "2024-08-09T02:58:57.142035",
     "status": "completed"
    },
    "tags": []
   },
   "outputs": [
    {
     "data": {
      "text/plain": [
       "array([0.64772727, 0.        , 0.25      , 0.6       , 0.        ,\n",
       "       0.5       , 0.        , 0.        , 0.        , 0.40714286,\n",
       "       0.46808511, 0.24318658, 0.16949153, 0.00451467, 0.44217687,\n",
       "       0.48888889, 0.80838323, 0.28813559, 0.        , 0.8       ,\n",
       "       0.        , 0.        , 1.        , 0.        ])"
      ]
     },
     "execution_count": 30,
     "metadata": {},
     "output_type": "execute_result"
    }
   ],
   "source": [
    "X_train[0]"
   ]
  },
  {
   "cell_type": "markdown",
   "id": "97b5a528",
   "metadata": {
    "papermill": {
     "duration": 0.014604,
     "end_time": "2024-08-09T02:58:57.198347",
     "exception": false,
     "start_time": "2024-08-09T02:58:57.183743",
     "status": "completed"
    },
    "tags": []
   },
   "source": []
  },
  {
   "cell_type": "markdown",
   "id": "83704d67",
   "metadata": {
    "papermill": {
     "duration": 0.01439,
     "end_time": "2024-08-09T02:58:57.227468",
     "exception": false,
     "start_time": "2024-08-09T02:58:57.213078",
     "status": "completed"
    },
    "tags": []
   },
   "source": [
    "1)\tWithout applying any feature selection process\n",
    "2)\tWith applying decision trees \n",
    "3)\tFilter methods\n",
    "4)\tWrapper methods\n",
    "5)\tEmbedded methods\n"
   ]
  },
  {
   "cell_type": "markdown",
   "id": "852abced",
   "metadata": {
    "papermill": {
     "duration": 0.014382,
     "end_time": "2024-08-09T02:58:57.256456",
     "exception": false,
     "start_time": "2024-08-09T02:58:57.242074",
     "status": "completed"
    },
    "tags": []
   },
   "source": [
    " Without applying any feature selection process "
   ]
  },
  {
   "cell_type": "code",
   "execution_count": 31,
   "id": "7399d305",
   "metadata": {
    "execution": {
     "iopub.execute_input": "2024-08-09T02:58:57.288107Z",
     "iopub.status.busy": "2024-08-09T02:58:57.287748Z",
     "iopub.status.idle": "2024-08-09T02:59:28.465054Z",
     "shell.execute_reply": "2024-08-09T02:59:28.463745Z"
    },
    "papermill": {
     "duration": 31.211593,
     "end_time": "2024-08-09T02:59:28.482771",
     "exception": false,
     "start_time": "2024-08-09T02:58:57.271178",
     "status": "completed"
    },
    "tags": []
   },
   "outputs": [
    {
     "data": {
      "text/plain": [
       "{'leaf_size': 1, 'n_neighbors': 1, 'p': 1}"
      ]
     },
     "execution_count": 31,
     "metadata": {},
     "output_type": "execute_result"
    }
   ],
   "source": [
    "# Grid Search for KNN\n",
    "\n",
    "hyperparameters = {\n",
    "    'leaf_size' : list(range(1,30)),\n",
    "    'n_neighbors' : list(range(1,25)),\n",
    "    'p' : [1,2]\n",
    "}\n",
    "\n",
    "knn = KNeighborsClassifier()\n",
    "\n",
    "knn_cv = GridSearchCV(estimator=knn, param_grid=hyperparameters, cv=10, n_jobs=-1)\n",
    "\n",
    "knn_cv.fit(X_train, y_train)\n",
    "\n",
    "knn_cv.best_params_"
   ]
  },
  {
   "cell_type": "code",
   "execution_count": 32,
   "id": "ea75936f",
   "metadata": {
    "execution": {
     "iopub.execute_input": "2024-08-09T02:59:28.515865Z",
     "iopub.status.busy": "2024-08-09T02:59:28.515444Z",
     "iopub.status.idle": "2024-08-09T02:59:28.526240Z",
     "shell.execute_reply": "2024-08-09T02:59:28.525237Z"
    },
    "papermill": {
     "duration": 0.029652,
     "end_time": "2024-08-09T02:59:28.528428",
     "exception": false,
     "start_time": "2024-08-09T02:59:28.498776",
     "status": "completed"
    },
    "tags": []
   },
   "outputs": [
    {
     "data": {
      "text/html": [
       "<style>#sk-container-id-2 {color: black;background-color: white;}#sk-container-id-2 pre{padding: 0;}#sk-container-id-2 div.sk-toggleable {background-color: white;}#sk-container-id-2 label.sk-toggleable__label {cursor: pointer;display: block;width: 100%;margin-bottom: 0;padding: 0.3em;box-sizing: border-box;text-align: center;}#sk-container-id-2 label.sk-toggleable__label-arrow:before {content: \"▸\";float: left;margin-right: 0.25em;color: #696969;}#sk-container-id-2 label.sk-toggleable__label-arrow:hover:before {color: black;}#sk-container-id-2 div.sk-estimator:hover label.sk-toggleable__label-arrow:before {color: black;}#sk-container-id-2 div.sk-toggleable__content {max-height: 0;max-width: 0;overflow: hidden;text-align: left;background-color: #f0f8ff;}#sk-container-id-2 div.sk-toggleable__content pre {margin: 0.2em;color: black;border-radius: 0.25em;background-color: #f0f8ff;}#sk-container-id-2 input.sk-toggleable__control:checked~div.sk-toggleable__content {max-height: 200px;max-width: 100%;overflow: auto;}#sk-container-id-2 input.sk-toggleable__control:checked~label.sk-toggleable__label-arrow:before {content: \"▾\";}#sk-container-id-2 div.sk-estimator input.sk-toggleable__control:checked~label.sk-toggleable__label {background-color: #d4ebff;}#sk-container-id-2 div.sk-label input.sk-toggleable__control:checked~label.sk-toggleable__label {background-color: #d4ebff;}#sk-container-id-2 input.sk-hidden--visually {border: 0;clip: rect(1px 1px 1px 1px);clip: rect(1px, 1px, 1px, 1px);height: 1px;margin: -1px;overflow: hidden;padding: 0;position: absolute;width: 1px;}#sk-container-id-2 div.sk-estimator {font-family: monospace;background-color: #f0f8ff;border: 1px dotted black;border-radius: 0.25em;box-sizing: border-box;margin-bottom: 0.5em;}#sk-container-id-2 div.sk-estimator:hover {background-color: #d4ebff;}#sk-container-id-2 div.sk-parallel-item::after {content: \"\";width: 100%;border-bottom: 1px solid gray;flex-grow: 1;}#sk-container-id-2 div.sk-label:hover label.sk-toggleable__label {background-color: #d4ebff;}#sk-container-id-2 div.sk-serial::before {content: \"\";position: absolute;border-left: 1px solid gray;box-sizing: border-box;top: 0;bottom: 0;left: 50%;z-index: 0;}#sk-container-id-2 div.sk-serial {display: flex;flex-direction: column;align-items: center;background-color: white;padding-right: 0.2em;padding-left: 0.2em;position: relative;}#sk-container-id-2 div.sk-item {position: relative;z-index: 1;}#sk-container-id-2 div.sk-parallel {display: flex;align-items: stretch;justify-content: center;background-color: white;position: relative;}#sk-container-id-2 div.sk-item::before, #sk-container-id-2 div.sk-parallel-item::before {content: \"\";position: absolute;border-left: 1px solid gray;box-sizing: border-box;top: 0;bottom: 0;left: 50%;z-index: -1;}#sk-container-id-2 div.sk-parallel-item {display: flex;flex-direction: column;z-index: 1;position: relative;background-color: white;}#sk-container-id-2 div.sk-parallel-item:first-child::after {align-self: flex-end;width: 50%;}#sk-container-id-2 div.sk-parallel-item:last-child::after {align-self: flex-start;width: 50%;}#sk-container-id-2 div.sk-parallel-item:only-child::after {width: 0;}#sk-container-id-2 div.sk-dashed-wrapped {border: 1px dashed gray;margin: 0 0.4em 0.5em 0.4em;box-sizing: border-box;padding-bottom: 0.4em;background-color: white;}#sk-container-id-2 div.sk-label label {font-family: monospace;font-weight: bold;display: inline-block;line-height: 1.2em;}#sk-container-id-2 div.sk-label-container {text-align: center;}#sk-container-id-2 div.sk-container {/* jupyter's `normalize.less` sets `[hidden] { display: none; }` but bootstrap.min.css set `[hidden] { display: none !important; }` so we also need the `!important` here to be able to override the default hidden behavior on the sphinx rendered scikit-learn.org. See: https://github.com/scikit-learn/scikit-learn/issues/21755 */display: inline-block !important;position: relative;}#sk-container-id-2 div.sk-text-repr-fallback {display: none;}</style><div id=\"sk-container-id-2\" class=\"sk-top-container\"><div class=\"sk-text-repr-fallback\"><pre>KNeighborsClassifier(leaf_size=1, n_neighbors=6, p=1)</pre><b>In a Jupyter environment, please rerun this cell to show the HTML representation or trust the notebook. <br />On GitHub, the HTML representation is unable to render, please try loading this page with nbviewer.org.</b></div><div class=\"sk-container\" hidden><div class=\"sk-item\"><div class=\"sk-estimator sk-toggleable\"><input class=\"sk-toggleable__control sk-hidden--visually\" id=\"sk-estimator-id-2\" type=\"checkbox\" checked><label for=\"sk-estimator-id-2\" class=\"sk-toggleable__label sk-toggleable__label-arrow\">KNeighborsClassifier</label><div class=\"sk-toggleable__content\"><pre>KNeighborsClassifier(leaf_size=1, n_neighbors=6, p=1)</pre></div></div></div></div></div>"
      ],
      "text/plain": [
       "KNeighborsClassifier(leaf_size=1, n_neighbors=6, p=1)"
      ]
     },
     "execution_count": 32,
     "metadata": {},
     "output_type": "execute_result"
    }
   ],
   "source": [
    "knn = KNeighborsClassifier(leaf_size=1, p=1, n_neighbors=6)\n",
    "knn.fit(X_train, y_train)"
   ]
  },
  {
   "cell_type": "code",
   "execution_count": 33,
   "id": "55a6e1a1",
   "metadata": {
    "execution": {
     "iopub.execute_input": "2024-08-09T02:59:28.561258Z",
     "iopub.status.busy": "2024-08-09T02:59:28.560418Z",
     "iopub.status.idle": "2024-08-09T02:59:28.655823Z",
     "shell.execute_reply": "2024-08-09T02:59:28.654580Z"
    },
    "papermill": {
     "duration": 0.114989,
     "end_time": "2024-08-09T02:59:28.659211",
     "exception": false,
     "start_time": "2024-08-09T02:59:28.544222",
     "status": "completed"
    },
    "tags": []
   },
   "outputs": [
    {
     "name": "stdout",
     "output_type": "stream",
     "text": [
      "              precision    recall  f1-score   support\n",
      "\n",
      "         0.0       0.99      0.91      0.94        74\n",
      "         1.0       0.87      0.98      0.92        46\n",
      "\n",
      "    accuracy                           0.93       120\n",
      "   macro avg       0.93      0.94      0.93       120\n",
      "weighted avg       0.94      0.93      0.93       120\n",
      "\n"
     ]
    }
   ],
   "source": [
    "y_pred_knn = knn.predict(X_test)\n",
    "print(classification_report(y_test, y_pred_knn))"
   ]
  },
  {
   "cell_type": "markdown",
   "id": "18ee3582",
   "metadata": {
    "papermill": {
     "duration": 0.019087,
     "end_time": "2024-08-09T02:59:28.723132",
     "exception": false,
     "start_time": "2024-08-09T02:59:28.704045",
     "status": "completed"
    },
    "tags": []
   },
   "source": [
    "SVM"
   ]
  },
  {
   "cell_type": "code",
   "execution_count": 34,
   "id": "d4a4cbe6",
   "metadata": {
    "execution": {
     "iopub.execute_input": "2024-08-09T02:59:28.755637Z",
     "iopub.status.busy": "2024-08-09T02:59:28.754828Z",
     "iopub.status.idle": "2024-08-09T02:59:30.227505Z",
     "shell.execute_reply": "2024-08-09T02:59:30.226422Z"
    },
    "papermill": {
     "duration": 1.491575,
     "end_time": "2024-08-09T02:59:30.229921",
     "exception": false,
     "start_time": "2024-08-09T02:59:28.738346",
     "status": "completed"
    },
    "tags": []
   },
   "outputs": [
    {
     "data": {
      "text/plain": [
       "{'C': 1, 'gamma': 0.1, 'kernel': 'poly'}"
      ]
     },
     "execution_count": 34,
     "metadata": {},
     "output_type": "execute_result"
    }
   ],
   "source": [
    " # Grid Search for SVM\n",
    "\n",
    "hyperparameters = {\n",
    "    'C': [1, 10, 100, 1000],  \n",
    "    'gamma': [1, 0.1, 0.01, 0.001, 0.0001], \n",
    "    'kernel': ['linear', 'poly', 'sigmoid', 'rbf']}\n",
    "\n",
    "svm = SVC()\n",
    "\n",
    "svm_cv = GridSearchCV(estimator=svm, param_grid=hyperparameters, cv=10, n_jobs=-1)\n",
    "\n",
    "svm_cv.fit(X_train, y_train)\n",
    "\n",
    "svm_cv.best_params_"
   ]
  },
  {
   "cell_type": "code",
   "execution_count": 35,
   "id": "24293359",
   "metadata": {
    "execution": {
     "iopub.execute_input": "2024-08-09T02:59:30.262085Z",
     "iopub.status.busy": "2024-08-09T02:59:30.261692Z",
     "iopub.status.idle": "2024-08-09T02:59:30.272321Z",
     "shell.execute_reply": "2024-08-09T02:59:30.271174Z"
    },
    "papermill": {
     "duration": 0.029795,
     "end_time": "2024-08-09T02:59:30.274857",
     "exception": false,
     "start_time": "2024-08-09T02:59:30.245062",
     "status": "completed"
    },
    "tags": []
   },
   "outputs": [
    {
     "data": {
      "text/html": [
       "<style>#sk-container-id-3 {color: black;background-color: white;}#sk-container-id-3 pre{padding: 0;}#sk-container-id-3 div.sk-toggleable {background-color: white;}#sk-container-id-3 label.sk-toggleable__label {cursor: pointer;display: block;width: 100%;margin-bottom: 0;padding: 0.3em;box-sizing: border-box;text-align: center;}#sk-container-id-3 label.sk-toggleable__label-arrow:before {content: \"▸\";float: left;margin-right: 0.25em;color: #696969;}#sk-container-id-3 label.sk-toggleable__label-arrow:hover:before {color: black;}#sk-container-id-3 div.sk-estimator:hover label.sk-toggleable__label-arrow:before {color: black;}#sk-container-id-3 div.sk-toggleable__content {max-height: 0;max-width: 0;overflow: hidden;text-align: left;background-color: #f0f8ff;}#sk-container-id-3 div.sk-toggleable__content pre {margin: 0.2em;color: black;border-radius: 0.25em;background-color: #f0f8ff;}#sk-container-id-3 input.sk-toggleable__control:checked~div.sk-toggleable__content {max-height: 200px;max-width: 100%;overflow: auto;}#sk-container-id-3 input.sk-toggleable__control:checked~label.sk-toggleable__label-arrow:before {content: \"▾\";}#sk-container-id-3 div.sk-estimator input.sk-toggleable__control:checked~label.sk-toggleable__label {background-color: #d4ebff;}#sk-container-id-3 div.sk-label input.sk-toggleable__control:checked~label.sk-toggleable__label {background-color: #d4ebff;}#sk-container-id-3 input.sk-hidden--visually {border: 0;clip: rect(1px 1px 1px 1px);clip: rect(1px, 1px, 1px, 1px);height: 1px;margin: -1px;overflow: hidden;padding: 0;position: absolute;width: 1px;}#sk-container-id-3 div.sk-estimator {font-family: monospace;background-color: #f0f8ff;border: 1px dotted black;border-radius: 0.25em;box-sizing: border-box;margin-bottom: 0.5em;}#sk-container-id-3 div.sk-estimator:hover {background-color: #d4ebff;}#sk-container-id-3 div.sk-parallel-item::after {content: \"\";width: 100%;border-bottom: 1px solid gray;flex-grow: 1;}#sk-container-id-3 div.sk-label:hover label.sk-toggleable__label {background-color: #d4ebff;}#sk-container-id-3 div.sk-serial::before {content: \"\";position: absolute;border-left: 1px solid gray;box-sizing: border-box;top: 0;bottom: 0;left: 50%;z-index: 0;}#sk-container-id-3 div.sk-serial {display: flex;flex-direction: column;align-items: center;background-color: white;padding-right: 0.2em;padding-left: 0.2em;position: relative;}#sk-container-id-3 div.sk-item {position: relative;z-index: 1;}#sk-container-id-3 div.sk-parallel {display: flex;align-items: stretch;justify-content: center;background-color: white;position: relative;}#sk-container-id-3 div.sk-item::before, #sk-container-id-3 div.sk-parallel-item::before {content: \"\";position: absolute;border-left: 1px solid gray;box-sizing: border-box;top: 0;bottom: 0;left: 50%;z-index: -1;}#sk-container-id-3 div.sk-parallel-item {display: flex;flex-direction: column;z-index: 1;position: relative;background-color: white;}#sk-container-id-3 div.sk-parallel-item:first-child::after {align-self: flex-end;width: 50%;}#sk-container-id-3 div.sk-parallel-item:last-child::after {align-self: flex-start;width: 50%;}#sk-container-id-3 div.sk-parallel-item:only-child::after {width: 0;}#sk-container-id-3 div.sk-dashed-wrapped {border: 1px dashed gray;margin: 0 0.4em 0.5em 0.4em;box-sizing: border-box;padding-bottom: 0.4em;background-color: white;}#sk-container-id-3 div.sk-label label {font-family: monospace;font-weight: bold;display: inline-block;line-height: 1.2em;}#sk-container-id-3 div.sk-label-container {text-align: center;}#sk-container-id-3 div.sk-container {/* jupyter's `normalize.less` sets `[hidden] { display: none; }` but bootstrap.min.css set `[hidden] { display: none !important; }` so we also need the `!important` here to be able to override the default hidden behavior on the sphinx rendered scikit-learn.org. See: https://github.com/scikit-learn/scikit-learn/issues/21755 */display: inline-block !important;position: relative;}#sk-container-id-3 div.sk-text-repr-fallback {display: none;}</style><div id=\"sk-container-id-3\" class=\"sk-top-container\"><div class=\"sk-text-repr-fallback\"><pre>SVC(C=10, gamma=0.1)</pre><b>In a Jupyter environment, please rerun this cell to show the HTML representation or trust the notebook. <br />On GitHub, the HTML representation is unable to render, please try loading this page with nbviewer.org.</b></div><div class=\"sk-container\" hidden><div class=\"sk-item\"><div class=\"sk-estimator sk-toggleable\"><input class=\"sk-toggleable__control sk-hidden--visually\" id=\"sk-estimator-id-3\" type=\"checkbox\" checked><label for=\"sk-estimator-id-3\" class=\"sk-toggleable__label sk-toggleable__label-arrow\">SVC</label><div class=\"sk-toggleable__content\"><pre>SVC(C=10, gamma=0.1)</pre></div></div></div></div></div>"
      ],
      "text/plain": [
       "SVC(C=10, gamma=0.1)"
      ]
     },
     "execution_count": 35,
     "metadata": {},
     "output_type": "execute_result"
    }
   ],
   "source": [
    "svm = SVC(C=10, gamma=0.1, kernel='rbf')\n",
    "svm.fit(X_train, y_train)"
   ]
  },
  {
   "cell_type": "code",
   "execution_count": 36,
   "id": "6d4622fe",
   "metadata": {
    "execution": {
     "iopub.execute_input": "2024-08-09T02:59:30.308221Z",
     "iopub.status.busy": "2024-08-09T02:59:30.307840Z",
     "iopub.status.idle": "2024-08-09T02:59:30.322937Z",
     "shell.execute_reply": "2024-08-09T02:59:30.321685Z"
    },
    "papermill": {
     "duration": 0.034791,
     "end_time": "2024-08-09T02:59:30.325802",
     "exception": false,
     "start_time": "2024-08-09T02:59:30.291011",
     "status": "completed"
    },
    "tags": []
   },
   "outputs": [
    {
     "name": "stdout",
     "output_type": "stream",
     "text": [
      "              precision    recall  f1-score   support\n",
      "\n",
      "         0.0       0.99      0.99      0.99        74\n",
      "         1.0       0.98      0.98      0.98        46\n",
      "\n",
      "    accuracy                           0.98       120\n",
      "   macro avg       0.98      0.98      0.98       120\n",
      "weighted avg       0.98      0.98      0.98       120\n",
      "\n"
     ]
    }
   ],
   "source": [
    "y_pred_svc = svm.predict(X_test)\n",
    "print(classification_report(y_test, y_pred_svc))"
   ]
  },
  {
   "cell_type": "markdown",
   "id": "d68d3668",
   "metadata": {
    "papermill": {
     "duration": 0.015584,
     "end_time": "2024-08-09T02:59:30.358943",
     "exception": false,
     "start_time": "2024-08-09T02:59:30.343359",
     "status": "completed"
    },
    "tags": []
   },
   "source": [
    "Naive Bayes"
   ]
  },
  {
   "cell_type": "code",
   "execution_count": 37,
   "id": "989aa1b0",
   "metadata": {
    "execution": {
     "iopub.execute_input": "2024-08-09T02:59:30.391908Z",
     "iopub.status.busy": "2024-08-09T02:59:30.391104Z",
     "iopub.status.idle": "2024-08-09T02:59:30.412533Z",
     "shell.execute_reply": "2024-08-09T02:59:30.411077Z"
    },
    "papermill": {
     "duration": 0.040332,
     "end_time": "2024-08-09T02:59:30.414823",
     "exception": false,
     "start_time": "2024-08-09T02:59:30.374491",
     "status": "completed"
    },
    "tags": []
   },
   "outputs": [
    {
     "name": "stdout",
     "output_type": "stream",
     "text": [
      "              precision    recall  f1-score   support\n",
      "\n",
      "         0.0       0.88      0.97      0.92        67\n",
      "         1.0       0.96      0.83      0.89        53\n",
      "\n",
      "    accuracy                           0.91       120\n",
      "   macro avg       0.92      0.90      0.91       120\n",
      "weighted avg       0.91      0.91      0.91       120\n",
      "\n"
     ]
    }
   ],
   "source": [
    "naive_bayes = MultinomialNB()\n",
    "naive_bayes.fit(X_train, y_train)\n",
    "y_pred_NB = naive_bayes.predict(X_test)\n",
    "print(classification_report(y_pred_NB, y_test))"
   ]
  },
  {
   "cell_type": "code",
   "execution_count": 38,
   "id": "da3f48e6",
   "metadata": {
    "execution": {
     "iopub.execute_input": "2024-08-09T02:59:30.447611Z",
     "iopub.status.busy": "2024-08-09T02:59:30.447212Z",
     "iopub.status.idle": "2024-08-09T02:59:30.473827Z",
     "shell.execute_reply": "2024-08-09T02:59:30.472377Z"
    },
    "papermill": {
     "duration": 0.046175,
     "end_time": "2024-08-09T02:59:30.476618",
     "exception": false,
     "start_time": "2024-08-09T02:59:30.430443",
     "status": "completed"
    },
    "tags": []
   },
   "outputs": [],
   "source": [
    "#Defining precison score for each model\n",
    "ps_svm=precision_score(y_test, y_pred_svc)\n",
    "ps_knn=precision_score(y_test, y_pred_knn)\n",
    "ps_nb=precision_score(y_test, y_pred_NB)\n",
    "\n",
    "precision_score_List=[ps_svm,ps_knn,ps_nb]\n",
    "#Defining recall for each model\n",
    "recall_svm=recall_score(y_test, y_pred_svc)\n",
    "recall_knn=recall_score(y_test, y_pred_knn)\n",
    "recall_nb=recall_score(y_test, y_pred_NB)\n",
    "\n",
    "recall_List=[recall_svm,recall_knn,recall_nb]\n",
    "#Defining recall for each model\n",
    "f1_score_svm=f1_score(y_pred_svc, y_pred_svc)\n",
    "f1_score_knn=f1_score(y_pred_knn, y_pred_knn)\n",
    "f1_score_nb=f1_score(y_test,y_pred_NB)\n",
    "\n",
    "f1_score_List=[f1_score_svm,f1_score_knn,f1_score_nb]"
   ]
  },
  {
   "cell_type": "code",
   "execution_count": 39,
   "id": "76b4caea",
   "metadata": {
    "execution": {
     "iopub.execute_input": "2024-08-09T02:59:30.510438Z",
     "iopub.status.busy": "2024-08-09T02:59:30.510012Z",
     "iopub.status.idle": "2024-08-09T02:59:30.515676Z",
     "shell.execute_reply": "2024-08-09T02:59:30.514335Z"
    },
    "papermill": {
     "duration": 0.025964,
     "end_time": "2024-08-09T02:59:30.518161",
     "exception": false,
     "start_time": "2024-08-09T02:59:30.492197",
     "status": "completed"
    },
    "tags": []
   },
   "outputs": [],
   "source": [
    "Algorithm_Name_List=[\"SVM\",\"KNN\",\"Naive Bayes\"]\n",
    "metrics_List=[\"precison score\",\"recall\",\"f1-score\"]"
   ]
  },
  {
   "cell_type": "code",
   "execution_count": 40,
   "id": "381766a2",
   "metadata": {
    "execution": {
     "iopub.execute_input": "2024-08-09T02:59:30.553417Z",
     "iopub.status.busy": "2024-08-09T02:59:30.552388Z",
     "iopub.status.idle": "2024-08-09T02:59:30.843711Z",
     "shell.execute_reply": "2024-08-09T02:59:30.842607Z"
    },
    "papermill": {
     "duration": 0.311661,
     "end_time": "2024-08-09T02:59:30.846098",
     "exception": false,
     "start_time": "2024-08-09T02:59:30.534437",
     "status": "completed"
    },
    "tags": []
   },
   "outputs": [
    {
     "data": {
      "image/png": "[encoded data removed]",
      "text/plain": [
       "<Figure size 640x480 with 1 Axes>"
      ]
     },
     "metadata": {},
     "output_type": "display_data"
    }
   ],
   "source": [
    "N = 3\n",
    "ind = np.arange(N)\n",
    "width = 0.25\n",
    "\n",
    "\n",
    "bar1 = plt.bar(ind, precision_score_List, width, color = 'r')\n",
    "\n",
    "\n",
    "bar2 = plt.bar(ind+width, recall_List, width, color='g')\n",
    "\n",
    "\n",
    "bar3 = plt.bar(ind+width*2, f1_score_List, width, color = 'b')\n",
    "\n",
    "\n",
    "plt.xlabel(\"Models\")\n",
    "plt.ylabel('Scores')\n",
    "plt.title(\"Comparison of system’s performance for different algorithms\")\n",
    "\n",
    "plt.xticks(ind+width,Algorithm_Name_List)\n",
    "plt.legend( (bar1, bar2, bar3), (metrics_List) )\n",
    "plt.show()"
   ]
  },
  {
   "cell_type": "code",
   "execution_count": 41,
   "id": "96c127f8",
   "metadata": {
    "execution": {
     "iopub.execute_input": "2024-08-09T02:59:30.882767Z",
     "iopub.status.busy": "2024-08-09T02:59:30.882068Z",
     "iopub.status.idle": "2024-08-09T02:59:30.887291Z",
     "shell.execute_reply": "2024-08-09T02:59:30.886208Z"
    },
    "papermill": {
     "duration": 0.027545,
     "end_time": "2024-08-09T02:59:30.889597",
     "exception": false,
     "start_time": "2024-08-09T02:59:30.862052",
     "status": "completed"
    },
    "tags": []
   },
   "outputs": [],
   "source": [
    "# I keep a copy of the dataset with all the variables\n",
    "# to compare the performance of machine learning models\n",
    "# at the end of the notebook\n",
    "\n",
    "X_train_original = X_train.copy()\n",
    "X_test_original = X_test.copy()"
   ]
  },
  {
   "cell_type": "code",
   "execution_count": 42,
   "id": "57b64b5b",
   "metadata": {
    "execution": {
     "iopub.execute_input": "2024-08-09T02:59:30.923933Z",
     "iopub.status.busy": "2024-08-09T02:59:30.923109Z",
     "iopub.status.idle": "2024-08-09T02:59:30.930694Z",
     "shell.execute_reply": "2024-08-09T02:59:30.929448Z"
    },
    "papermill": {
     "duration": 0.027312,
     "end_time": "2024-08-09T02:59:30.933030",
     "exception": false,
     "start_time": "2024-08-09T02:59:30.905718",
     "status": "completed"
    },
    "tags": []
   },
   "outputs": [
    {
     "data": {
      "text/plain": [
       "array([0.64772727, 0.        , 0.25      , 0.6       , 0.        ,\n",
       "       0.5       , 0.        , 0.        , 0.        , 0.40714286,\n",
       "       0.46808511, 0.24318658, 0.16949153, 0.00451467, 0.44217687,\n",
       "       0.48888889, 0.80838323, 0.28813559, 0.        , 0.8       ,\n",
       "       0.        , 0.        , 1.        , 0.        ])"
      ]
     },
     "execution_count": 42,
     "metadata": {},
     "output_type": "execute_result"
    }
   ],
   "source": [
    "X_train[0]"
   ]
  },
  {
   "cell_type": "code",
   "execution_count": 43,
   "id": "93650511",
   "metadata": {
    "execution": {
     "iopub.execute_input": "2024-08-09T02:59:30.968067Z",
     "iopub.status.busy": "2024-08-09T02:59:30.967689Z",
     "iopub.status.idle": "2024-08-09T02:59:30.972967Z",
     "shell.execute_reply": "2024-08-09T02:59:30.971722Z"
    },
    "papermill": {
     "duration": 0.026174,
     "end_time": "2024-08-09T02:59:30.975515",
     "exception": false,
     "start_time": "2024-08-09T02:59:30.949341",
     "status": "completed"
    },
    "tags": []
   },
   "outputs": [],
   "source": [
    "#train linear model with L1 penalty\n",
    "from sklearn.svm import LinearSVC\n",
    "from sklearn.feature_selection import SelectFromModel"
   ]
  },
  {
   "cell_type": "code",
   "execution_count": 44,
   "id": "28924e6b",
   "metadata": {
    "execution": {
     "iopub.execute_input": "2024-08-09T02:59:31.010058Z",
     "iopub.status.busy": "2024-08-09T02:59:31.009643Z",
     "iopub.status.idle": "2024-08-09T02:59:31.017258Z",
     "shell.execute_reply": "2024-08-09T02:59:31.016228Z"
    },
    "papermill": {
     "duration": 0.027329,
     "end_time": "2024-08-09T02:59:31.019552",
     "exception": false,
     "start_time": "2024-08-09T02:59:30.992223",
     "status": "completed"
    },
    "tags": []
   },
   "outputs": [],
   "source": [
    "x_train, x_devel, y_train, y_devel= train_test_split(X, y, test_size= 0.33, random_state= 20)"
   ]
  },
  {
   "cell_type": "code",
   "execution_count": 45,
   "id": "677b7523",
   "metadata": {
    "execution": {
     "iopub.execute_input": "2024-08-09T02:59:31.053856Z",
     "iopub.status.busy": "2024-08-09T02:59:31.053396Z",
     "iopub.status.idle": "2024-08-09T02:59:31.092933Z",
     "shell.execute_reply": "2024-08-09T02:59:31.091666Z"
    },
    "papermill": {
     "duration": 0.059705,
     "end_time": "2024-08-09T02:59:31.095479",
     "exception": false,
     "start_time": "2024-08-09T02:59:31.035774",
     "status": "completed"
    },
    "tags": []
   },
   "outputs": [
    {
     "name": "stderr",
     "output_type": "stream",
     "text": [
      "/opt/conda/lib/python3.10/site-packages/sklearn/svm/_base.py:1244: ConvergenceWarning: Liblinear failed to converge, increase the number of iterations.\n",
      "  warnings.warn(\n"
     ]
    }
   ],
   "source": [
    "lsvc= LinearSVC(C= 1.0, penalty= 'l1', dual= False).fit(x_train, y_train)\n",
    "svc_mod= SelectFromModel(lsvc, prefit= True)"
   ]
  },
  {
   "cell_type": "code",
   "execution_count": 46,
   "id": "33e31418",
   "metadata": {
    "execution": {
     "iopub.execute_input": "2024-08-09T02:59:31.131314Z",
     "iopub.status.busy": "2024-08-09T02:59:31.130879Z",
     "iopub.status.idle": "2024-08-09T02:59:31.143963Z",
     "shell.execute_reply": "2024-08-09T02:59:31.142857Z"
    },
    "papermill": {
     "duration": 0.03338,
     "end_time": "2024-08-09T02:59:31.146255",
     "exception": false,
     "start_time": "2024-08-09T02:59:31.112875",
     "status": "completed"
    },
    "tags": []
   },
   "outputs": [
    {
     "name": "stderr",
     "output_type": "stream",
     "text": [
      "/opt/conda/lib/python3.10/site-packages/sklearn/base.py:432: UserWarning: X has feature names, but SelectFromModel was fitted without feature names\n",
      "  warnings.warn(\n"
     ]
    }
   ],
   "source": [
    "#get non-zeroed features \n",
    "x_train_svc= svc_mod.transform(x_train) #training set w/non-zeroed features\n",
    "selected_feats_svc= pd.DataFrame(svc_mod.inverse_transform(x_train_svc), index= x_train.index, columns= x_train.columns)\n",
    "selected_cols_svc= selected_feats_svc.columns[selected_feats_svc.var() != 0]\n"
   ]
  },
  {
   "cell_type": "code",
   "execution_count": 47,
   "id": "fe4e9ef8",
   "metadata": {
    "execution": {
     "iopub.execute_input": "2024-08-09T02:59:31.181859Z",
     "iopub.status.busy": "2024-08-09T02:59:31.181311Z",
     "iopub.status.idle": "2024-08-09T02:59:31.189586Z",
     "shell.execute_reply": "2024-08-09T02:59:31.188380Z"
    },
    "papermill": {
     "duration": 0.028689,
     "end_time": "2024-08-09T02:59:31.192233",
     "exception": false,
     "start_time": "2024-08-09T02:59:31.163544",
     "status": "completed"
    },
    "tags": []
   },
   "outputs": [
    {
     "name": "stdout",
     "output_type": "stream",
     "text": [
      "Features retained:  Index(['blood_pressure', 'albumin', 'sugar', 'red_blood_cells',\n",
      "       'blood_glucose_random', 'blood_urea', 'serum_creatinine', 'sodium',\n",
      "       'potassium', 'haemoglobin', 'packed_cell_volume',\n",
      "       'white_blood_cell_count', 'red_blood_cell_count', 'hypertension',\n",
      "       'diabetes_mellitus', 'appetite', 'peda_edema'],\n",
      "      dtype='object')\n"
     ]
    }
   ],
   "source": [
    "\n",
    "#get development set that has only the non-zeroed features\n",
    "x_devel_svc= x_devel[selected_cols_svc]\n",
    "\n",
    "#see which features were retained\n",
    "print('Features retained: ', selected_cols_svc)"
   ]
  },
  {
   "cell_type": "code",
   "execution_count": 48,
   "id": "d17c52b0",
   "metadata": {
    "execution": {
     "iopub.execute_input": "2024-08-09T02:59:31.226993Z",
     "iopub.status.busy": "2024-08-09T02:59:31.226522Z",
     "iopub.status.idle": "2024-08-09T02:59:31.243155Z",
     "shell.execute_reply": "2024-08-09T02:59:31.241979Z"
    },
    "papermill": {
     "duration": 0.036754,
     "end_time": "2024-08-09T02:59:31.245479",
     "exception": false,
     "start_time": "2024-08-09T02:59:31.208725",
     "status": "completed"
    },
    "tags": []
   },
   "outputs": [
    {
     "name": "stdout",
     "output_type": "stream",
     "text": [
      "Features retained:  Index(['specific_gravity', 'albumin', 'blood_glucose_random', 'blood_urea',\n",
      "       'serum_creatinine', 'sodium', 'haemoglobin', 'packed_cell_volume',\n",
      "       'red_blood_cell_count', 'hypertension'],\n",
      "      dtype='object')\n"
     ]
    }
   ],
   "source": [
    "from sklearn.feature_selection import SelectKBest, f_classif\n",
    "kbest_feats= SelectKBest(f_classif, k=10)\n",
    "\n",
    "#get top 5 best features\n",
    "x_train_kbest= kbest_feats.fit_transform(x_train, y_train)\n",
    "selected_feats_kbest= pd.DataFrame(kbest_feats.inverse_transform(x_train_kbest), index= x_train.index, columns= x_train.columns)\n",
    "selected_cols_kbest= selected_feats_kbest.columns[selected_feats_kbest.var() != 0]\n",
    "\n",
    "#get development set that has the top 5 features\n",
    "x_devel_kbest= x_devel[selected_cols_kbest]\n",
    "\n",
    "#see which features were retained\n",
    "print('Features retained: ', selected_cols_kbest)"
   ]
  },
  {
   "cell_type": "code",
   "execution_count": 49,
   "id": "15f3b021",
   "metadata": {
    "execution": {
     "iopub.execute_input": "2024-08-09T02:59:31.281421Z",
     "iopub.status.busy": "2024-08-09T02:59:31.280986Z",
     "iopub.status.idle": "2024-08-09T02:59:35.013351Z",
     "shell.execute_reply": "2024-08-09T02:59:35.012055Z"
    },
    "papermill": {
     "duration": 3.753368,
     "end_time": "2024-08-09T02:59:35.016003",
     "exception": false,
     "start_time": "2024-08-09T02:59:31.262635",
     "status": "completed"
    },
    "tags": []
   },
   "outputs": [
    {
     "name": "stdout",
     "output_type": "stream",
     "text": [
      "specific_gravity\n",
      "albumin\n",
      "red_blood_cells\n",
      "blood_glucose_random\n",
      "blood_urea\n",
      "serum_creatinine\n",
      "sodium\n",
      "haemoglobin\n",
      "packed_cell_volume\n",
      "red_blood_cell_count\n",
      "hypertension\n",
      "diabetes_mellitus\n"
     ]
    }
   ],
   "source": [
    "from sklearn.ensemble import RandomForestClassifier\n",
    "\n",
    "#create and train a random forest\n",
    "forest= RandomForestClassifier(n_estimators= 1000, random_state= 20)\n",
    "forest.fit(x_train, y_train)\n",
    "\n",
    "#get the most important features\n",
    "forest_feats= SelectFromModel(forest, threshold= 'median')\n",
    "forest_feats.fit(x_train, y_train)\n",
    "\n",
    "#get training and development sets that have only the most important features\n",
    "x_train_forest= forest_feats.transform(x_train)\n",
    "x_devel_forest= forest_feats.transform(x_devel)\n",
    "\n",
    "#see which features were retained\n",
    "for i in forest_feats.get_support(indices= True):\n",
    "    print(x_train.columns[i])"
   ]
  },
  {
   "cell_type": "code",
   "execution_count": 50,
   "id": "b49a7a8e",
   "metadata": {
    "execution": {
     "iopub.execute_input": "2024-08-09T02:59:35.051153Z",
     "iopub.status.busy": "2024-08-09T02:59:35.050749Z",
     "iopub.status.idle": "2024-08-09T02:59:38.702914Z",
     "shell.execute_reply": "2024-08-09T02:59:38.701710Z"
    },
    "papermill": {
     "duration": 3.672942,
     "end_time": "2024-08-09T02:59:38.705413",
     "exception": false,
     "start_time": "2024-08-09T02:59:35.032471",
     "status": "completed"
    },
    "tags": []
   },
   "outputs": [
    {
     "name": "stdout",
     "output_type": "stream",
     "text": [
      "specific_gravity\n",
      "albumin\n",
      "red_blood_cells\n",
      "blood_glucose_random\n",
      "blood_urea\n",
      "serum_creatinine\n",
      "sodium\n",
      "haemoglobin\n",
      "packed_cell_volume\n",
      "red_blood_cell_count\n",
      "hypertension\n",
      "diabetes_mellitus\n"
     ]
    }
   ],
   "source": [
    "from sklearn.ensemble import RandomForestClassifier\n",
    "\n",
    "#create and train a random forest\n",
    "forest= RandomForestClassifier(n_estimators= 1000, random_state= 20)\n",
    "forest.fit(x_train, y_train)\n",
    "\n",
    "#get the most important features\n",
    "forest_feats= SelectFromModel(forest, threshold= 'median')\n",
    "forest_feats.fit(x_train, y_train)\n",
    "\n",
    "#get training and development sets that have only the most important features\n",
    "x_train_forest= forest_feats.transform(x_train)\n",
    "x_devel_forest= forest_feats.transform(x_devel)\n",
    "\n",
    "#see which features were retained\n",
    "for i in forest_feats.get_support(indices= True):\n",
    "    print(x_train.columns[i])"
   ]
  }
 ],
 "metadata": {
  "kaggle": {
   "accelerator": "none",
   "dataSources": [
    {
     "datasetId": 5014966,
     "sourceId": 8423207,
     "sourceType": "datasetVersion"
    }
   ],
   "dockerImageVersionId": 30698,
   "isGpuEnabled": false,
   "isInternetEnabled": true,
   "language": "python",
   "sourceType": "notebook"
  },
  "kernelspec": {
   "display_name": "Python 3",
   "language": "python",
   "name": "python3"
  },
  "language_info": {
   "codemirror_mode": {
    "name": "ipython",
    "version": 3
   },
   "file_extension": ".py",
   "mimetype": "text/x-python",
   "name": "python",
   "nbconvert_exporter": "python",
   "pygments_lexer": "ipython3",
   "version": "3.10.13"
  },
  "papermill": {
   "default_parameters": {},
   "duration": 51.925822,
   "end_time": "2024-08-09T02:59:41.346640",
   "environment_variables": {},
   "exception": null,
   "input_path": "__notebook__.ipynb",
   "output_path": "__notebook__.ipynb",
   "parameters": {},
   "start_time": "2024-08-09T02:58:49.420818",
   "version": "2.5.0"
  }
 },
 "nbformat": 4,
 "nbformat_minor": 5
}
